{
 "cells": [
  {
   "cell_type": "code",
   "execution_count": 1,
   "id": "764f3849",
   "metadata": {},
   "outputs": [],
   "source": [
    "from pymongo import MongoClient\n",
    "import findspark\n",
    "findspark.init()"
   ]
  },
  {
   "cell_type": "code",
   "execution_count": 2,
   "id": "6f45578d",
   "metadata": {},
   "outputs": [],
   "source": [
    "import numpy as np \n",
    "import pandas as pd\n",
    "from pyspark.sql import functions as F"
   ]
  },
  {
   "cell_type": "code",
   "execution_count": 3,
   "id": "8ebc3939",
   "metadata": {
    "scrolled": true
   },
   "outputs": [],
   "source": [
    "from pyspark.context import SparkContext\n",
    "from pyspark.sql.context import SQLContext\n",
    "from pyspark.sql.session import SparkSession\n",
    "    \n",
    "sc = SparkContext()\n",
    "sqlContext = SQLContext(sc)\n",
    "spark = SparkSession(sc)"
   ]
  },
  {
   "cell_type": "code",
   "execution_count": 4,
   "id": "1bc99262",
   "metadata": {},
   "outputs": [],
   "source": [
    "myclient = MongoClient(\"mongodb://localhost:27017\")\n",
    "mydb = myclient[\"mydatabase\"]\n",
    "mycol = mydb[\"log_col\"]\n"
   ]
  },
  {
   "cell_type": "code",
   "execution_count": 5,
   "id": "68ec3dcb",
   "metadata": {},
   "outputs": [
    {
     "data": {
      "text/plain": [
       "5215312"
      ]
     },
     "execution_count": 5,
     "metadata": {},
     "output_type": "execute_result"
    }
   ],
   "source": [
    "n=mycol.count_documents({})\n",
    "n"
   ]
  },
  {
   "cell_type": "markdown",
   "id": "e3cc8335",
   "metadata": {},
   "source": [
    "# Spark Session "
   ]
  },
  {
   "cell_type": "code",
   "execution_count": 6,
   "id": "0d3f1b22",
   "metadata": {},
   "outputs": [
    {
     "data": {
      "text/html": [
       "\n",
       "            <div>\n",
       "                <p><b>SparkSession - in-memory</b></p>\n",
       "                \n",
       "        <div>\n",
       "            <p><b>SparkContext</b></p>\n",
       "\n",
       "            <p><a href=\"http://DESKTOP-UMVKPIB.mshome.net:4040\">Spark UI</a></p>\n",
       "\n",
       "            <dl>\n",
       "              <dt>Version</dt>\n",
       "                <dd><code>v2.4.5</code></dd>\n",
       "              <dt>Master</dt>\n",
       "                <dd><code>local[*]</code></dd>\n",
       "              <dt>AppName</dt>\n",
       "                <dd><code>pyspark-shell</code></dd>\n",
       "            </dl>\n",
       "        </div>\n",
       "        \n",
       "            </div>\n",
       "        "
      ],
      "text/plain": [
       "<pyspark.sql.session.SparkSession at 0x20044f05710>"
      ]
     },
     "execution_count": 6,
     "metadata": {},
     "output_type": "execute_result"
    }
   ],
   "source": [
    "spark"
   ]
  },
  {
   "cell_type": "markdown",
   "id": "e10de7d1",
   "metadata": {},
   "source": [
    "# Read data from Mongodb Data Base"
   ]
  },
  {
   "cell_type": "code",
   "execution_count": 7,
   "id": "9a151e23",
   "metadata": {},
   "outputs": [],
   "source": [
    "df = spark.read.format(\"mongo\").option(\"uri\",\"mongodb://127.0.0.1/mydatabase.log_col\").load()"
   ]
  },
  {
   "cell_type": "code",
   "execution_count": 8,
   "id": "8f8be6da",
   "metadata": {},
   "outputs": [
    {
     "name": "stdout",
     "output_type": "stream",
     "text": [
      "root\n",
      " |-- _id: struct (nullable = true)\n",
      " |    |-- oid: string (nullable = true)\n",
      " |-- client: string (nullable = true)\n",
      " |-- datetime: string (nullable = true)\n",
      " |-- method: string (nullable = true)\n",
      " |-- referer: string (nullable = true)\n",
      " |-- request: string (nullable = true)\n",
      " |-- size: string (nullable = true)\n",
      " |-- status: string (nullable = true)\n",
      "\n"
     ]
    }
   ],
   "source": [
    "df.printSchema()"
   ]
  },
  {
   "cell_type": "code",
   "execution_count": 9,
   "id": "53a07255",
   "metadata": {},
   "outputs": [
    {
     "data": {
      "text/plain": [
       "pyspark.sql.dataframe.DataFrame"
      ]
     },
     "execution_count": 9,
     "metadata": {},
     "output_type": "execute_result"
    }
   ],
   "source": [
    "type(df)"
   ]
  },
  {
   "cell_type": "code",
   "execution_count": 10,
   "id": "efaacae9",
   "metadata": {},
   "outputs": [],
   "source": [
    "#df.count()"
   ]
  },
  {
   "cell_type": "code",
   "execution_count": 11,
   "id": "9f52c3ad",
   "metadata": {},
   "outputs": [
    {
     "name": "stdout",
     "output_type": "stream",
     "text": [
      "+--------------------+-------------+--------------------+------+--------------------+--------------------+-----+------+\n",
      "|                 _id|       client|            datetime|method|             referer|             request| size|status|\n",
      "+--------------------+-------------+--------------------+------+--------------------+--------------------+-----+------+\n",
      "|[61e6aa21486d33a0...| 54.36.149.41|22/Jan/2019:03:56...|   GET|                   -|/filter/27|13%20%...|30577|   200|\n",
      "|[61e6aa22486d33a0...|  31.56.96.51|22/Jan/2019:03:56...|   GET|https://www.zanbi...|/image/60844/prod...| 5667|   200|\n",
      "|[61e6aa23486d33a0...|  31.56.96.51|22/Jan/2019:03:56...|   GET|https://www.zanbi...|/image/61474/prod...| 5379|   200|\n",
      "|[61e6aa24486d33a0...|40.77.167.129|22/Jan/2019:03:56...|   GET|                   -|/image/14925/prod...| 1696|   200|\n",
      "|[61e6aa25486d33a0...|  91.99.72.15|22/Jan/2019:03:56...|   GET|                   -|/product/31893/62...|41483|   200|\n",
      "|[61e6aa26486d33a0...|40.77.167.129|22/Jan/2019:03:56...|   GET|                   -|/image/23488/prod...| 2654|   200|\n",
      "|[61e6aa27486d33a0...|40.77.167.129|22/Jan/2019:03:56...|   GET|                   -|/image/45437/prod...| 3688|   200|\n",
      "|[61e6aa28486d33a0...|40.77.167.129|22/Jan/2019:03:56...|   GET|                   -|/image/576/articl...|14776|   200|\n",
      "|[61e6aa29486d33a0...|66.249.66.194|22/Jan/2019:03:56...|   GET|                   -|/filter/b41,b665,...|34277|   200|\n",
      "|[61e6aa2a486d33a0...|40.77.167.129|22/Jan/2019:03:56...|   GET|                   -|/image/57710/prod...| 1695|   200|\n",
      "|[61e6aa2b486d33a0...|207.46.13.136|22/Jan/2019:03:56...|   GET|                   -|      /product/10214|39677|   200|\n",
      "|[61e6aa2c486d33a0...|40.77.167.129|22/Jan/2019:03:56...|   GET|                   -|/image/578/articl...| 9831|   200|\n",
      "|[61e6aa2d486d33a0...|178.253.33.51|22/Jan/2019:03:56...|   GET|https://www.zanbi...|/m/product/32574/...|20406|   200|\n",
      "|[61e6aa2e486d33a0...|40.77.167.129|22/Jan/2019:03:56...|   GET|                   -|/image/6229/produ...| 1796|   200|\n",
      "|[61e6aa2f486d33a0...|  91.99.72.15|22/Jan/2019:03:56...|   GET|                   -|/product/10075/13...|41725|   200|\n",
      "|[61e6aa30486d33a0...|40.77.167.129|22/Jan/2019:03:56...|   GET|                   -|/image/6229/produ...| 2739|   200|\n",
      "|[61e6aa31486d33a0...|207.46.13.136|22/Jan/2019:03:56...|   GET|                   -|      /product/14926|33617|   404|\n",
      "|[61e6aa32486d33a0...|40.77.167.129|22/Jan/2019:03:56...|   GET|                   -|/image/6248/produ...| 2788|   200|\n",
      "|[61e6aa33486d33a0...|40.77.167.129|22/Jan/2019:03:56...|   GET|                   -|/image/64815/prod...| 3481|   200|\n",
      "|[61e6aa34486d33a0...|66.249.66.194|22/Jan/2019:03:56...|   GET|                   -|     /m/filter/b2,p6|19451|   200|\n",
      "+--------------------+-------------+--------------------+------+--------------------+--------------------+-----+------+\n",
      "only showing top 20 rows\n",
      "\n"
     ]
    }
   ],
   "source": [
    "df.show()"
   ]
  },
  {
   "cell_type": "code",
   "execution_count": 12,
   "id": "8d5aa43f",
   "metadata": {},
   "outputs": [
    {
     "name": "stdout",
     "output_type": "stream",
     "text": [
      "8\n"
     ]
    }
   ],
   "source": [
    "print(len(df.columns))"
   ]
  },
  {
   "cell_type": "code",
   "execution_count": 13,
   "id": "9b4d9301",
   "metadata": {},
   "outputs": [
    {
     "data": {
      "text/plain": [
       "['_id', 'client', 'datetime', 'method', 'referer', 'request', 'size', 'status']"
      ]
     },
     "execution_count": 13,
     "metadata": {},
     "output_type": "execute_result"
    }
   ],
   "source": [
    "df.columns"
   ]
  },
  {
   "cell_type": "code",
   "execution_count": 14,
   "id": "df341460",
   "metadata": {},
   "outputs": [],
   "source": [
    "df=df.drop('_id')"
   ]
  },
  {
   "cell_type": "markdown",
   "id": "f24e82b1",
   "metadata": {},
   "source": [
    "# Finding Missing Values"
   ]
  },
  {
   "cell_type": "code",
   "execution_count": 15,
   "id": "b18a57c7",
   "metadata": {},
   "outputs": [
    {
     "data": {
      "text/plain": [
       "0"
      ]
     },
     "execution_count": 15,
     "metadata": {},
     "output_type": "execute_result"
    }
   ],
   "source": [
    "(df\n",
    "    .filter(df['client']\n",
    "                .isNull())\n",
    "    .count())"
   ]
  },
  {
   "cell_type": "code",
   "execution_count": 16,
   "id": "40fb44ba",
   "metadata": {},
   "outputs": [
    {
     "data": {
      "text/plain": [
       "0"
      ]
     },
     "execution_count": 16,
     "metadata": {},
     "output_type": "execute_result"
    }
   ],
   "source": [
    "bad_rows_df = df.filter(df['client'].isNull()| \n",
    "                             df['datetime'].isNull() | \n",
    "                             df['method'].isNull() |\n",
    "                              df['referer'].isNull() |\n",
    "                             df['status'].isNull() |\n",
    "                             df['size'].isNull()|\n",
    "                             df['request'].isNull())\n",
    "bad_rows_df.count()"
   ]
  },
  {
   "cell_type": "markdown",
   "id": "e588e0e5",
   "metadata": {},
   "source": [
    "* Finding Null Counts"
   ]
  },
  {
   "cell_type": "code",
   "execution_count": 17,
   "id": "314371c5",
   "metadata": {},
   "outputs": [
    {
     "name": "stdout",
     "output_type": "stream",
     "text": [
      "+------+--------+------+-------+-------+----+------+\n",
      "|client|datetime|method|referer|request|size|status|\n",
      "+------+--------+------+-------+-------+----+------+\n",
      "|     0|       0|     0|      0|      0|   0|     0|\n",
      "+------+--------+------+-------+-------+----+------+\n",
      "\n"
     ]
    }
   ],
   "source": [
    "from pyspark.sql.functions import col\n",
    "from pyspark.sql.functions import sum as spark_sum\n",
    "\n",
    "def count_null(col_name):\n",
    "    return spark_sum(col(col_name).isNull().cast('integer')).alias(col_name)\n",
    "\n",
    "# Build up a list of column expressions, one per column.\n",
    "exprs = [count_null(col_name) for col_name in df.columns]\n",
    "\n",
    "# Run the aggregation. The *exprs converts the list of expressions into\n",
    "# variable function arguments.\n",
    "df.agg(*exprs).show()"
   ]
  },
  {
   "cell_type": "markdown",
   "id": "130227aa",
   "metadata": {},
   "source": [
    "### Data Time"
   ]
  },
  {
   "cell_type": "code",
   "execution_count": 18,
   "id": "4acd3ca7",
   "metadata": {},
   "outputs": [],
   "source": [
    "from pyspark.sql.functions import udf\n",
    "\n",
    "month_map = {\n",
    "  'Jan': 1, 'Feb': 2, 'Mar':3, 'Apr':4, 'May':5, 'Jun':6, 'Jul':7,\n",
    "  'Aug':8,  'Sep': 9, 'Oct':10, 'Nov': 11, 'Dec': 12\n",
    "}\n",
    "\n",
    "def parse_clf_time(text):\n",
    "    \"\"\" Convert Common Log time format into a Python datetime object\n",
    "    Args:\n",
    "        text (str): date and time in Apache time format [dd/mmm/yyyy:hh:mm:ss (+/-)zzzz]\n",
    "    Returns:\n",
    "        a string suitable for passing to CAST('timestamp')\n",
    "    \"\"\"\n",
    "    # NOTE: We're ignoring the time zones here, might need to be handled depending on the problem you are solving\n",
    "    return \"{0:04d}-{1:02d}-{2:02d} {3:02d}:{4:02d}:{5:02d}\".format(\n",
    "      int(text[7:11]),\n",
    "      month_map[text[3:6]],\n",
    "      int(text[0:2]),\n",
    "      int(text[12:14]),\n",
    "      int(text[15:17]),\n",
    "      int(text[18:20])\n",
    "    )"
   ]
  },
  {
   "cell_type": "code",
   "execution_count": 19,
   "id": "7a194a2f",
   "metadata": {},
   "outputs": [
    {
     "name": "stdout",
     "output_type": "stream",
     "text": [
      "+-------------+------+--------------------+--------------------+-----+------+-------------------+\n",
      "|       client|method|             referer|             request| size|status|               date|\n",
      "+-------------+------+--------------------+--------------------+-----+------+-------------------+\n",
      "| 54.36.149.41|   GET|                   -|/filter/27|13%20%...|30577|   200|2019-01-22 03:56:14|\n",
      "|  31.56.96.51|   GET|https://www.zanbi...|/image/60844/prod...| 5667|   200|2019-01-22 03:56:16|\n",
      "|  31.56.96.51|   GET|https://www.zanbi...|/image/61474/prod...| 5379|   200|2019-01-22 03:56:16|\n",
      "|40.77.167.129|   GET|                   -|/image/14925/prod...| 1696|   200|2019-01-22 03:56:17|\n",
      "|  91.99.72.15|   GET|                   -|/product/31893/62...|41483|   200|2019-01-22 03:56:17|\n",
      "|40.77.167.129|   GET|                   -|/image/23488/prod...| 2654|   200|2019-01-22 03:56:17|\n",
      "|40.77.167.129|   GET|                   -|/image/45437/prod...| 3688|   200|2019-01-22 03:56:18|\n",
      "|40.77.167.129|   GET|                   -|/image/576/articl...|14776|   200|2019-01-22 03:56:18|\n",
      "|66.249.66.194|   GET|                   -|/filter/b41,b665,...|34277|   200|2019-01-22 03:56:18|\n",
      "|40.77.167.129|   GET|                   -|/image/57710/prod...| 1695|   200|2019-01-22 03:56:18|\n",
      "+-------------+------+--------------------+--------------------+-----+------+-------------------+\n",
      "only showing top 10 rows\n",
      "\n"
     ]
    }
   ],
   "source": [
    "udf_parse_time = udf(parse_clf_time)\n",
    "\n",
    "df =df.select('*', udf_parse_time(df['datetime']).cast('timestamp').alias('date')).drop('datetime')\n",
    "df.show(10, truncate=True)"
   ]
  },
  {
   "cell_type": "code",
   "execution_count": null,
   "id": "09184458",
   "metadata": {},
   "outputs": [],
   "source": []
  },
  {
   "cell_type": "markdown",
   "id": "e1697da6",
   "metadata": {},
   "source": [
    "# Data Analysis on our Web Logs"
   ]
  },
  {
   "cell_type": "code",
   "execution_count": null,
   "id": "e3f01af7",
   "metadata": {},
   "outputs": [],
   "source": []
  },
  {
   "cell_type": "code",
   "execution_count": 20,
   "id": "f4a3d218",
   "metadata": {},
   "outputs": [],
   "source": [
    "content_size_summary_df = df.describe(['size'])\n"
   ]
  },
  {
   "cell_type": "code",
   "execution_count": 21,
   "id": "a39302c5",
   "metadata": {},
   "outputs": [
    {
     "name": "stdout",
     "output_type": "stream",
     "text": [
      "+-------+------------------+\n",
      "|summary|              size|\n",
      "+-------+------------------+\n",
      "|  count|           5215312|\n",
      "|   mean|12282.029658820029|\n",
      "| stddev| 29196.60366432535|\n",
      "|    min|                 0|\n",
      "|    max|              9999|\n",
      "+-------+------------------+\n",
      "\n"
     ]
    }
   ],
   "source": [
    "content_size_summary_df.show()"
   ]
  },
  {
   "cell_type": "code",
   "execution_count": 23,
   "id": "5a3f7dba",
   "metadata": {},
   "outputs": [],
   "source": [
    "status_freq_df = (df\n",
    "                     .groupBy('status')\n",
    "                     .count()\n",
    "                     .sort('status')\n",
    "                     .cache())"
   ]
  },
  {
   "cell_type": "code",
   "execution_count": 24,
   "id": "9b4f6975",
   "metadata": {},
   "outputs": [
    {
     "data": {
      "text/html": [
       "<div>\n",
       "<style scoped>\n",
       "    .dataframe tbody tr th:only-of-type {\n",
       "        vertical-align: middle;\n",
       "    }\n",
       "\n",
       "    .dataframe tbody tr th {\n",
       "        vertical-align: top;\n",
       "    }\n",
       "\n",
       "    .dataframe thead th {\n",
       "        text-align: right;\n",
       "    }\n",
       "</style>\n",
       "<table border=\"1\" class=\"dataframe\">\n",
       "  <thead>\n",
       "    <tr style=\"text-align: right;\">\n",
       "      <th></th>\n",
       "      <th>status</th>\n",
       "      <th>count</th>\n",
       "    </tr>\n",
       "  </thead>\n",
       "  <tbody>\n",
       "    <tr>\n",
       "      <th>0</th>\n",
       "      <td>200</td>\n",
       "      <td>4808337</td>\n",
       "    </tr>\n",
       "    <tr>\n",
       "      <th>4</th>\n",
       "      <td>304</td>\n",
       "      <td>178135</td>\n",
       "    </tr>\n",
       "    <tr>\n",
       "      <th>3</th>\n",
       "      <td>302</td>\n",
       "      <td>107501</td>\n",
       "    </tr>\n",
       "    <tr>\n",
       "      <th>8</th>\n",
       "      <td>404</td>\n",
       "      <td>52843</td>\n",
       "    </tr>\n",
       "    <tr>\n",
       "      <th>2</th>\n",
       "      <td>301</td>\n",
       "      <td>38407</td>\n",
       "    </tr>\n",
       "    <tr>\n",
       "      <th>11</th>\n",
       "      <td>499</td>\n",
       "      <td>25903</td>\n",
       "    </tr>\n",
       "    <tr>\n",
       "      <th>7</th>\n",
       "      <td>403</td>\n",
       "      <td>2401</td>\n",
       "    </tr>\n",
       "    <tr>\n",
       "      <th>12</th>\n",
       "      <td>500</td>\n",
       "      <td>1040</td>\n",
       "    </tr>\n",
       "    <tr>\n",
       "      <th>5</th>\n",
       "      <td>400</td>\n",
       "      <td>280</td>\n",
       "    </tr>\n",
       "    <tr>\n",
       "      <th>13</th>\n",
       "      <td>502</td>\n",
       "      <td>278</td>\n",
       "    </tr>\n",
       "    <tr>\n",
       "      <th>6</th>\n",
       "      <td>401</td>\n",
       "      <td>118</td>\n",
       "    </tr>\n",
       "    <tr>\n",
       "      <th>10</th>\n",
       "      <td>408</td>\n",
       "      <td>58</td>\n",
       "    </tr>\n",
       "    <tr>\n",
       "      <th>9</th>\n",
       "      <td>405</td>\n",
       "      <td>5</td>\n",
       "    </tr>\n",
       "    <tr>\n",
       "      <th>14</th>\n",
       "      <td>504</td>\n",
       "      <td>4</td>\n",
       "    </tr>\n",
       "    <tr>\n",
       "      <th>1</th>\n",
       "      <td>206</td>\n",
       "      <td>2</td>\n",
       "    </tr>\n",
       "  </tbody>\n",
       "</table>\n",
       "</div>"
      ],
      "text/plain": [
       "   status    count\n",
       "0     200  4808337\n",
       "4     304   178135\n",
       "3     302   107501\n",
       "8     404    52843\n",
       "2     301    38407\n",
       "11    499    25903\n",
       "7     403     2401\n",
       "12    500     1040\n",
       "5     400      280\n",
       "13    502      278\n",
       "6     401      118\n",
       "10    408       58\n",
       "9     405        5\n",
       "14    504        4\n",
       "1     206        2"
      ]
     },
     "execution_count": 24,
     "metadata": {},
     "output_type": "execute_result"
    }
   ],
   "source": [
    "status_freq_pd_df = (status_freq_df\n",
    "                         .toPandas()\n",
    "                         .sort_values(by=['count'],\n",
    "                                      ascending=False))\n",
    "status_freq_pd_df"
   ]
  },
  {
   "cell_type": "code",
   "execution_count": 25,
   "id": "501ee825",
   "metadata": {},
   "outputs": [
    {
     "data": {
      "text/plain": [
       "<seaborn.axisgrid.FacetGrid at 0x2004df67898>"
      ]
     },
     "execution_count": 25,
     "metadata": {},
     "output_type": "execute_result"
    },
    {
     "data": {
      "image/png": "[encoded data removed]",
      "text/plain": [
       "<Figure size 360x360 with 1 Axes>"
      ]
     },
     "metadata": {
      "needs_background": "light"
     },
     "output_type": "display_data"
    }
   ],
   "source": [
    "#import matplotlib.pyplot as plt\n",
    "import seaborn as sns\n",
    "import numpy as np\n",
    "%matplotlib inline\n",
    "\n",
    "sns.catplot(x='status', y='count', data=status_freq_pd_df, \n",
    "            kind='bar', order=status_freq_pd_df['status'])"
   ]
  },
  {
   "cell_type": "code",
   "execution_count": 26,
   "id": "521028c7",
   "metadata": {},
   "outputs": [
    {
     "data": {
      "text/html": [
       "<div>\n",
       "<style scoped>\n",
       "    .dataframe tbody tr th:only-of-type {\n",
       "        vertical-align: middle;\n",
       "    }\n",
       "\n",
       "    .dataframe tbody tr th {\n",
       "        vertical-align: top;\n",
       "    }\n",
       "\n",
       "    .dataframe thead th {\n",
       "        text-align: right;\n",
       "    }\n",
       "</style>\n",
       "<table border=\"1\" class=\"dataframe\">\n",
       "  <thead>\n",
       "    <tr style=\"text-align: right;\">\n",
       "      <th></th>\n",
       "      <th>status</th>\n",
       "      <th>count</th>\n",
       "      <th>log(count)</th>\n",
       "    </tr>\n",
       "  </thead>\n",
       "  <tbody>\n",
       "    <tr>\n",
       "      <th>0</th>\n",
       "      <td>200</td>\n",
       "      <td>4808337</td>\n",
       "      <td>15.385862</td>\n",
       "    </tr>\n",
       "    <tr>\n",
       "      <th>1</th>\n",
       "      <td>206</td>\n",
       "      <td>2</td>\n",
       "      <td>0.693147</td>\n",
       "    </tr>\n",
       "    <tr>\n",
       "      <th>2</th>\n",
       "      <td>301</td>\n",
       "      <td>38407</td>\n",
       "      <td>10.555995</td>\n",
       "    </tr>\n",
       "    <tr>\n",
       "      <th>3</th>\n",
       "      <td>302</td>\n",
       "      <td>107501</td>\n",
       "      <td>11.585255</td>\n",
       "    </tr>\n",
       "    <tr>\n",
       "      <th>4</th>\n",
       "      <td>304</td>\n",
       "      <td>178135</td>\n",
       "      <td>12.090297</td>\n",
       "    </tr>\n",
       "    <tr>\n",
       "      <th>5</th>\n",
       "      <td>400</td>\n",
       "      <td>280</td>\n",
       "      <td>5.634790</td>\n",
       "    </tr>\n",
       "    <tr>\n",
       "      <th>6</th>\n",
       "      <td>401</td>\n",
       "      <td>118</td>\n",
       "      <td>4.770685</td>\n",
       "    </tr>\n",
       "    <tr>\n",
       "      <th>7</th>\n",
       "      <td>403</td>\n",
       "      <td>2401</td>\n",
       "      <td>7.783641</td>\n",
       "    </tr>\n",
       "    <tr>\n",
       "      <th>8</th>\n",
       "      <td>404</td>\n",
       "      <td>52843</td>\n",
       "      <td>10.875081</td>\n",
       "    </tr>\n",
       "    <tr>\n",
       "      <th>9</th>\n",
       "      <td>405</td>\n",
       "      <td>5</td>\n",
       "      <td>1.609438</td>\n",
       "    </tr>\n",
       "    <tr>\n",
       "      <th>10</th>\n",
       "      <td>408</td>\n",
       "      <td>58</td>\n",
       "      <td>4.060443</td>\n",
       "    </tr>\n",
       "    <tr>\n",
       "      <th>11</th>\n",
       "      <td>499</td>\n",
       "      <td>25903</td>\n",
       "      <td>10.162114</td>\n",
       "    </tr>\n",
       "    <tr>\n",
       "      <th>12</th>\n",
       "      <td>500</td>\n",
       "      <td>1040</td>\n",
       "      <td>6.946976</td>\n",
       "    </tr>\n",
       "    <tr>\n",
       "      <th>13</th>\n",
       "      <td>502</td>\n",
       "      <td>278</td>\n",
       "      <td>5.627621</td>\n",
       "    </tr>\n",
       "    <tr>\n",
       "      <th>14</th>\n",
       "      <td>504</td>\n",
       "      <td>4</td>\n",
       "      <td>1.386294</td>\n",
       "    </tr>\n",
       "  </tbody>\n",
       "</table>\n",
       "</div>"
      ],
      "text/plain": [
       "   status    count  log(count)\n",
       "0     200  4808337   15.385862\n",
       "1     206        2    0.693147\n",
       "2     301    38407   10.555995\n",
       "3     302   107501   11.585255\n",
       "4     304   178135   12.090297\n",
       "5     400      280    5.634790\n",
       "6     401      118    4.770685\n",
       "7     403     2401    7.783641\n",
       "8     404    52843   10.875081\n",
       "9     405        5    1.609438\n",
       "10    408       58    4.060443\n",
       "11    499    25903   10.162114\n",
       "12    500     1040    6.946976\n",
       "13    502      278    5.627621\n",
       "14    504        4    1.386294"
      ]
     },
     "execution_count": 26,
     "metadata": {},
     "output_type": "execute_result"
    }
   ],
   "source": [
    "log_freq_df = status_freq_df.withColumn('log(count)', F.log(status_freq_df['count']))\n",
    "log_freq_df.toPandas()"
   ]
  },
  {
   "cell_type": "code",
   "execution_count": 27,
   "id": "da8b721d",
   "metadata": {},
   "outputs": [
    {
     "data": {
      "text/plain": [
       "<seaborn.axisgrid.FacetGrid at 0x2004df7b6d8>"
      ]
     },
     "execution_count": 27,
     "metadata": {},
     "output_type": "execute_result"
    },
    {
     "data": {
      "image/png": "[encoded data removed]",
      "text/plain": [
       "<Figure size 360x360 with 1 Axes>"
      ]
     },
     "metadata": {
      "needs_background": "light"
     },
     "output_type": "display_data"
    }
   ],
   "source": [
    "log_freq_pd_df = (log_freq_df\n",
    "                    .toPandas()\n",
    "                    .sort_values(by=['log(count)'],\n",
    "                                 ascending=False))\n",
    "sns.catplot(x='status', y='log(count)', data=log_freq_pd_df, \n",
    "            kind='bar', order=status_freq_pd_df['status'])"
   ]
  },
  {
   "cell_type": "markdown",
   "id": "33b2600e",
   "metadata": {},
   "source": [
    "# Analyzing Frequent Hosts (Clients)"
   ]
  },
  {
   "cell_type": "code",
   "execution_count": 28,
   "id": "92b17b30",
   "metadata": {},
   "outputs": [
    {
     "name": "stdout",
     "output_type": "stream",
     "text": [
      "+---------------+------+\n",
      "|         client| count|\n",
      "+---------------+------+\n",
      "|  66.249.66.194|174153|\n",
      "|   66.249.66.91|155412|\n",
      "|151.239.241.163| 62244|\n",
      "|   66.249.66.92| 49041|\n",
      "|    91.99.30.32| 45500|\n",
      "|   5.78.190.233| 26137|\n",
      "|195.181.168.181| 24773|\n",
      "|  104.222.32.94| 17553|\n",
      "|    91.99.72.15| 17063|\n",
      "|   66.249.66.93| 13692|\n",
      "+---------------+------+\n",
      "\n"
     ]
    }
   ],
   "source": [
    "host_sum_df =(df\n",
    "               .groupBy('client')\n",
    "               .count()\n",
    "               .sort('count', ascending=False).limit(10))\n",
    "\n",
    "host_sum_df.show()"
   ]
  },
  {
   "cell_type": "code",
   "execution_count": 29,
   "id": "827f4b9c",
   "metadata": {},
   "outputs": [],
   "source": [
    "is200_df = (df.filter(df['status'] == 200))\n",
    "\n",
    "endpoints_freq_df = (is200_df\n",
    "                               .groupBy('client')\n",
    "                               .count()\n",
    "                               .sort('count', ascending=False)\n",
    "                               .limit(10)\n",
    "                          )"
   ]
  },
  {
   "cell_type": "code",
   "execution_count": 30,
   "id": "74ce9f90",
   "metadata": {},
   "outputs": [
    {
     "name": "stdout",
     "output_type": "stream",
     "text": [
      "+---------------+------+\n",
      "|client         |count |\n",
      "+---------------+------+\n",
      "|66.249.66.194  |148683|\n",
      "|66.249.66.91   |57611 |\n",
      "|151.239.241.163|53162 |\n",
      "|91.99.30.32    |38338 |\n",
      "|195.181.168.181|24287 |\n",
      "|5.78.190.233   |21482 |\n",
      "|91.99.72.15    |16991 |\n",
      "|104.222.32.94  |16918 |\n",
      "|66.249.66.92   |14624 |\n",
      "|195.181.168.164|11763 |\n",
      "+---------------+------+\n",
      "\n"
     ]
    }
   ],
   "source": [
    "endpoints_freq_df.show(truncate=False)"
   ]
  },
  {
   "cell_type": "markdown",
   "id": "2ffbd3eb",
   "metadata": {},
   "source": [
    "# Display the Top 20 Frequent EndPoints"
   ]
  },
  {
   "cell_type": "code",
   "execution_count": 32,
   "id": "da386121",
   "metadata": {},
   "outputs": [
    {
     "data": {
      "text/html": [
       "<div>\n",
       "<style scoped>\n",
       "    .dataframe tbody tr th:only-of-type {\n",
       "        vertical-align: middle;\n",
       "    }\n",
       "\n",
       "    .dataframe tbody tr th {\n",
       "        vertical-align: top;\n",
       "    }\n",
       "\n",
       "    .dataframe thead th {\n",
       "        text-align: right;\n",
       "    }\n",
       "</style>\n",
       "<table border=\"1\" class=\"dataframe\">\n",
       "  <thead>\n",
       "    <tr style=\"text-align: right;\">\n",
       "      <th></th>\n",
       "      <th>request</th>\n",
       "      <th>count</th>\n",
       "    </tr>\n",
       "  </thead>\n",
       "  <tbody>\n",
       "    <tr>\n",
       "      <th>0</th>\n",
       "      <td>/settings/logo</td>\n",
       "      <td>168425</td>\n",
       "    </tr>\n",
       "    <tr>\n",
       "      <th>1</th>\n",
       "      <td>/static/css/font/wyekan/font.woff</td>\n",
       "      <td>145778</td>\n",
       "    </tr>\n",
       "    <tr>\n",
       "      <th>2</th>\n",
       "      <td>/static/images/guarantees/bestPrice.png</td>\n",
       "      <td>62150</td>\n",
       "    </tr>\n",
       "    <tr>\n",
       "      <th>3</th>\n",
       "      <td>/static/images/guarantees/goodShopping.png</td>\n",
       "      <td>59985</td>\n",
       "    </tr>\n",
       "    <tr>\n",
       "      <th>4</th>\n",
       "      <td>/site/alexaGooleAnalitic</td>\n",
       "      <td>59428</td>\n",
       "    </tr>\n",
       "    <tr>\n",
       "      <th>5</th>\n",
       "      <td>/static/images/guarantees/fastDelivery.png</td>\n",
       "      <td>54773</td>\n",
       "    </tr>\n",
       "    <tr>\n",
       "      <th>6</th>\n",
       "      <td>/static/images/guarantees/warranty.png</td>\n",
       "      <td>54441</td>\n",
       "    </tr>\n",
       "    <tr>\n",
       "      <th>7</th>\n",
       "      <td>/static/images/guarantees/support.png</td>\n",
       "      <td>44908</td>\n",
       "    </tr>\n",
       "    <tr>\n",
       "      <th>8</th>\n",
       "      <td>/favicon.ico</td>\n",
       "      <td>44841</td>\n",
       "    </tr>\n",
       "    <tr>\n",
       "      <th>9</th>\n",
       "      <td>/static/images/amp/telegram.png</td>\n",
       "      <td>43003</td>\n",
       "    </tr>\n",
       "    <tr>\n",
       "      <th>10</th>\n",
       "      <td>/static/images/amp/blog.png</td>\n",
       "      <td>41698</td>\n",
       "    </tr>\n",
       "    <tr>\n",
       "      <th>11</th>\n",
       "      <td>/static/images/amp/instagram.png</td>\n",
       "      <td>41572</td>\n",
       "    </tr>\n",
       "    <tr>\n",
       "      <th>12</th>\n",
       "      <td>/amp-helper-frame.html?appId=a624a1c1-0c93-466...</td>\n",
       "      <td>26725</td>\n",
       "    </tr>\n",
       "    <tr>\n",
       "      <th>13</th>\n",
       "      <td>/</td>\n",
       "      <td>25649</td>\n",
       "    </tr>\n",
       "    <tr>\n",
       "      <th>14</th>\n",
       "      <td>/static/images/amp/third-party/footer-mobile.png</td>\n",
       "      <td>25120</td>\n",
       "    </tr>\n",
       "    <tr>\n",
       "      <th>15</th>\n",
       "      <td>/image/%7B%7BbasketItem.id%7D%7D?type=productM...</td>\n",
       "      <td>20306</td>\n",
       "    </tr>\n",
       "    <tr>\n",
       "      <th>16</th>\n",
       "      <td>/static/bundle-bundle_site_head.css</td>\n",
       "      <td>19651</td>\n",
       "    </tr>\n",
       "    <tr>\n",
       "      <th>17</th>\n",
       "      <td>/static/images/favicon.ico</td>\n",
       "      <td>18913</td>\n",
       "    </tr>\n",
       "    <tr>\n",
       "      <th>18</th>\n",
       "      <td>/static/images/third-party/footer.png</td>\n",
       "      <td>18659</td>\n",
       "    </tr>\n",
       "    <tr>\n",
       "      <th>19</th>\n",
       "      <td>/static/images/search-category-arrow.png</td>\n",
       "      <td>18512</td>\n",
       "    </tr>\n",
       "  </tbody>\n",
       "</table>\n",
       "</div>"
      ],
      "text/plain": [
       "                                              request   count\n",
       "0                                      /settings/logo  168425\n",
       "1                   /static/css/font/wyekan/font.woff  145778\n",
       "2             /static/images/guarantees/bestPrice.png   62150\n",
       "3          /static/images/guarantees/goodShopping.png   59985\n",
       "4                            /site/alexaGooleAnalitic   59428\n",
       "5          /static/images/guarantees/fastDelivery.png   54773\n",
       "6              /static/images/guarantees/warranty.png   54441\n",
       "7               /static/images/guarantees/support.png   44908\n",
       "8                                        /favicon.ico   44841\n",
       "9                     /static/images/amp/telegram.png   43003\n",
       "10                        /static/images/amp/blog.png   41698\n",
       "11                   /static/images/amp/instagram.png   41572\n",
       "12  /amp-helper-frame.html?appId=a624a1c1-0c93-466...   26725\n",
       "13                                                  /   25649\n",
       "14   /static/images/amp/third-party/footer-mobile.png   25120\n",
       "15  /image/%7B%7BbasketItem.id%7D%7D?type=productM...   20306\n",
       "16                /static/bundle-bundle_site_head.css   19651\n",
       "17                         /static/images/favicon.ico   18913\n",
       "18              /static/images/third-party/footer.png   18659\n",
       "19           /static/images/search-category-arrow.png   18512"
      ]
     },
     "execution_count": 32,
     "metadata": {},
     "output_type": "execute_result"
    }
   ],
   "source": [
    "paths_df = (df\n",
    "            .groupBy('request')\n",
    "            .count()\n",
    "            .sort('count', ascending=False).limit(20))\n",
    "paths_df.show()"
   ]
  },
  {
   "cell_type": "markdown",
   "id": "493ef21d",
   "metadata": {},
   "source": [
    "# Top Ten Error Endpoints"
   ]
  },
  {
   "cell_type": "code",
   "execution_count": 33,
   "id": "b2a7515b",
   "metadata": {},
   "outputs": [],
   "source": [
    "not200_df = (df\n",
    "               .filter(df['status'] != 200))\n",
    "\n",
    "error_endpoints_freq_df = (not200_df\n",
    "                               .groupBy('request')\n",
    "                               .count()\n",
    "                               .sort('count', ascending=False)\n",
    "                               .limit(10)\n",
    "                          )"
   ]
  },
  {
   "cell_type": "code",
   "execution_count": 34,
   "id": "4d7ac395",
   "metadata": {},
   "outputs": [
    {
     "name": "stdout",
     "output_type": "stream",
     "text": [
      "+--------------------+-----+\n",
      "|             request|count|\n",
      "+--------------------+-----+\n",
      "|/static/css/font/...|90195|\n",
      "|/static/images/gu...|18362|\n",
      "|/static/images/gu...|16010|\n",
      "|/static/images/gu...|11721|\n",
      "|/static/images/gu...|10820|\n",
      "|                   /| 9719|\n",
      "|/plugins/ckeditor...| 9604|\n",
      "|/apple-touch-icon...| 8594|\n",
      "|/images/raty/star...| 8468|\n",
      "|/apple-touch-icon...| 8031|\n",
      "+--------------------+-----+\n",
      "\n"
     ]
    }
   ],
   "source": [
    "error_endpoints_freq_df.show()"
   ]
  },
  {
   "cell_type": "markdown",
   "id": "2f9e3526",
   "metadata": {},
   "source": [
    "# Number of Unique Daily Hosts"
   ]
  },
  {
   "cell_type": "code",
   "execution_count": 35,
   "id": "8f62ad73",
   "metadata": {},
   "outputs": [
    {
     "data": {
      "text/plain": [
       "124883"
      ]
     },
     "execution_count": 35,
     "metadata": {},
     "output_type": "execute_result"
    }
   ],
   "source": [
    "unique_host_count = (df\n",
    "                     .select('client')\n",
    "                     .distinct()\n",
    "                     .count())\n",
    "unique_host_count"
   ]
  },
  {
   "cell_type": "markdown",
   "id": "0e65d89f",
   "metadata": {},
   "source": [
    "# Number of Unique Daily Hosts"
   ]
  },
  {
   "cell_type": "code",
   "execution_count": 36,
   "id": "4ab7e6d9",
   "metadata": {},
   "outputs": [
    {
     "name": "stdout",
     "output_type": "stream",
     "text": [
      "+-------------+---+\n",
      "|client       |day|\n",
      "+-------------+---+\n",
      "|54.36.149.41 |22 |\n",
      "|31.56.96.51  |22 |\n",
      "|31.56.96.51  |22 |\n",
      "|40.77.167.129|22 |\n",
      "|91.99.72.15  |22 |\n",
      "+-------------+---+\n",
      "only showing top 5 rows\n",
      "\n"
     ]
    }
   ],
   "source": [
    "host_day_df = df.select(df.client, \n",
    "                             F.dayofmonth('date').alias('day'))\n",
    "host_day_df.show(5, truncate=False)"
   ]
  },
  {
   "cell_type": "code",
   "execution_count": 37,
   "id": "44d23a50",
   "metadata": {},
   "outputs": [
    {
     "data": {
      "text/plain": [
       "3"
      ]
     },
     "execution_count": 37,
     "metadata": {},
     "output_type": "execute_result"
    }
   ],
   "source": [
    "#counting distinct days\n",
    "(host_day_df.select('day')\n",
    ".distinct()\n",
    ".count())"
   ]
  },
  {
   "cell_type": "markdown",
   "id": "ee4ef126",
   "metadata": {},
   "source": [
    "* daily_unique_hosts_df\n"
   ]
  },
  {
   "cell_type": "code",
   "execution_count": 38,
   "id": "a338a0b6",
   "metadata": {},
   "outputs": [
    {
     "name": "stdout",
     "output_type": "stream",
     "text": [
      "+-------------+---+\n",
      "|client       |day|\n",
      "+-------------+---+\n",
      "|46.51.119.113|22 |\n",
      "|54.36.148.244|22 |\n",
      "|54.36.149.27 |22 |\n",
      "|5.121.216.12 |22 |\n",
      "|54.36.148.178|22 |\n",
      "+-------------+---+\n",
      "only showing top 5 rows\n",
      "\n"
     ]
    }
   ],
   "source": [
    "host_day_distinct_df = (host_day_df\n",
    "                          .dropDuplicates())\n",
    "host_day_distinct_df.show(5, truncate=False)"
   ]
  },
  {
   "cell_type": "code",
   "execution_count": 40,
   "id": "f3d7b66a",
   "metadata": {},
   "outputs": [
    {
     "data": {
      "text/html": [
       "<div>\n",
       "<style scoped>\n",
       "    .dataframe tbody tr th:only-of-type {\n",
       "        vertical-align: middle;\n",
       "    }\n",
       "\n",
       "    .dataframe tbody tr th {\n",
       "        vertical-align: top;\n",
       "    }\n",
       "\n",
       "    .dataframe thead th {\n",
       "        text-align: right;\n",
       "    }\n",
       "</style>\n",
       "<table border=\"1\" class=\"dataframe\">\n",
       "  <thead>\n",
       "    <tr style=\"text-align: right;\">\n",
       "      <th></th>\n",
       "      <th>day</th>\n",
       "      <th>count</th>\n",
       "    </tr>\n",
       "  </thead>\n",
       "  <tbody>\n",
       "    <tr>\n",
       "      <th>0</th>\n",
       "      <td>22</td>\n",
       "      <td>53196</td>\n",
       "    </tr>\n",
       "    <tr>\n",
       "      <th>1</th>\n",
       "      <td>23</td>\n",
       "      <td>58900</td>\n",
       "    </tr>\n",
       "    <tr>\n",
       "      <th>2</th>\n",
       "      <td>24</td>\n",
       "      <td>20917</td>\n",
       "    </tr>\n",
       "  </tbody>\n",
       "</table>\n",
       "</div>"
      ],
      "text/plain": [
       "   day  count\n",
       "0   22  53196\n",
       "1   23  58900\n",
       "2   24  20917"
      ]
     },
     "execution_count": 40,
     "metadata": {},
     "output_type": "execute_result"
    }
   ],
   "source": [
    "def_mr = pd.get_option('max_rows')\n",
    "pd.set_option('max_rows', 10)\n",
    "\n",
    "daily_hosts_df = (host_day_distinct_df\n",
    "                     .groupBy('day')\n",
    "                     .count()\n",
    "                     .sort(\"day\"))\n",
    "\n",
    "daily_hosts_df = daily_hosts_df.toPandas()\n",
    "daily_hosts_df"
   ]
  },
  {
   "cell_type": "code",
   "execution_count": 41,
   "id": "4eb9d483",
   "metadata": {},
   "outputs": [
    {
     "data": {
      "image/png": "[encoded data removed]",
      "text/plain": [
       "<Figure size 540x360 with 1 Axes>"
      ]
     },
     "metadata": {
      "needs_background": "light"
     },
     "output_type": "display_data"
    }
   ],
   "source": [
    "c = sns.catplot(x='day', y='count', \n",
    "                data=daily_hosts_df, \n",
    "                kind='point', height=5, \n",
    "                aspect=1.5)"
   ]
  },
  {
   "cell_type": "code",
   "execution_count": null,
   "id": "a2efe000",
   "metadata": {},
   "outputs": [],
   "source": []
  },
  {
   "cell_type": "code",
   "execution_count": 42,
   "id": "81ddf004",
   "metadata": {},
   "outputs": [
    {
     "name": "stdout",
     "output_type": "stream",
     "text": [
      "+-------------+----+\n",
      "|client       |hour|\n",
      "+-------------+----+\n",
      "|54.36.149.41 |3   |\n",
      "|31.56.96.51  |3   |\n",
      "|31.56.96.51  |3   |\n",
      "|40.77.167.129|3   |\n",
      "|91.99.72.15  |3   |\n",
      "+-------------+----+\n",
      "only showing top 5 rows\n",
      "\n"
     ]
    }
   ],
   "source": [
    "#counting distinct hours\n",
    "host_hour_df = df.select(df.client, \n",
    "                             F.hour('date').alias('hour'))\n",
    "host_hour_df.show(5, truncate=False)"
   ]
  },
  {
   "cell_type": "code",
   "execution_count": 43,
   "id": "6247b2f4",
   "metadata": {},
   "outputs": [
    {
     "data": {
      "text/plain": [
       "24"
      ]
     },
     "execution_count": 43,
     "metadata": {},
     "output_type": "execute_result"
    }
   ],
   "source": [
    "#counting distinct days\n",
    "(host_hour_df.select('hour')\n",
    ".distinct()\n",
    ".count())"
   ]
  },
  {
   "cell_type": "code",
   "execution_count": 44,
   "id": "aaa957f2",
   "metadata": {},
   "outputs": [
    {
     "data": {
      "text/html": [
       "<div>\n",
       "<style scoped>\n",
       "    .dataframe tbody tr th:only-of-type {\n",
       "        vertical-align: middle;\n",
       "    }\n",
       "\n",
       "    .dataframe tbody tr th {\n",
       "        vertical-align: top;\n",
       "    }\n",
       "\n",
       "    .dataframe thead th {\n",
       "        text-align: right;\n",
       "    }\n",
       "</style>\n",
       "<table border=\"1\" class=\"dataframe\">\n",
       "  <thead>\n",
       "    <tr style=\"text-align: right;\">\n",
       "      <th></th>\n",
       "      <th>hour</th>\n",
       "      <th>count</th>\n",
       "    </tr>\n",
       "  </thead>\n",
       "  <tbody>\n",
       "    <tr>\n",
       "      <th>0</th>\n",
       "      <td>0</td>\n",
       "      <td>154304</td>\n",
       "    </tr>\n",
       "    <tr>\n",
       "      <th>1</th>\n",
       "      <td>1</td>\n",
       "      <td>109961</td>\n",
       "    </tr>\n",
       "    <tr>\n",
       "      <th>2</th>\n",
       "      <td>2</td>\n",
       "      <td>59500</td>\n",
       "    </tr>\n",
       "    <tr>\n",
       "      <th>3</th>\n",
       "      <td>3</td>\n",
       "      <td>38613</td>\n",
       "    </tr>\n",
       "    <tr>\n",
       "      <th>4</th>\n",
       "      <td>4</td>\n",
       "      <td>45591</td>\n",
       "    </tr>\n",
       "    <tr>\n",
       "      <th>...</th>\n",
       "      <td>...</td>\n",
       "      <td>...</td>\n",
       "    </tr>\n",
       "    <tr>\n",
       "      <th>19</th>\n",
       "      <td>19</td>\n",
       "      <td>219287</td>\n",
       "    </tr>\n",
       "    <tr>\n",
       "      <th>20</th>\n",
       "      <td>20</td>\n",
       "      <td>216491</td>\n",
       "    </tr>\n",
       "    <tr>\n",
       "      <th>21</th>\n",
       "      <td>21</td>\n",
       "      <td>211233</td>\n",
       "    </tr>\n",
       "    <tr>\n",
       "      <th>22</th>\n",
       "      <td>22</td>\n",
       "      <td>228583</td>\n",
       "    </tr>\n",
       "    <tr>\n",
       "      <th>23</th>\n",
       "      <td>23</td>\n",
       "      <td>210656</td>\n",
       "    </tr>\n",
       "  </tbody>\n",
       "</table>\n",
       "<p>24 rows × 2 columns</p>\n",
       "</div>"
      ],
      "text/plain": [
       "    hour   count\n",
       "0      0  154304\n",
       "1      1  109961\n",
       "2      2   59500\n",
       "3      3   38613\n",
       "4      4   45591\n",
       "..   ...     ...\n",
       "19    19  219287\n",
       "20    20  216491\n",
       "21    21  211233\n",
       "22    22  228583\n",
       "23    23  210656\n",
       "\n",
       "[24 rows x 2 columns]"
      ]
     },
     "execution_count": 44,
     "metadata": {},
     "output_type": "execute_result"
    }
   ],
   "source": [
    "#def_mr = pd.get_option('max_rows')\n",
    "#pd.set_option('max_rows', 10)\n",
    "\n",
    "daily_hosts_df = (host_hour_df\n",
    "                     .groupBy('hour')\n",
    "                     .count()\n",
    "                     .sort(\"hour\"))\n",
    "\n",
    "daily_hosts_df = daily_hosts_df.toPandas()\n",
    "daily_hosts_df"
   ]
  },
  {
   "cell_type": "code",
   "execution_count": 45,
   "id": "9e5eb419",
   "metadata": {},
   "outputs": [
    {
     "data": {
      "image/png": "[encoded data removed]",
      "text/plain": [
       "<Figure size 540x360 with 1 Axes>"
      ]
     },
     "metadata": {
      "needs_background": "light"
     },
     "output_type": "display_data"
    }
   ],
   "source": [
    "c = sns.catplot(x='hour', y='count', \n",
    "                data=daily_hosts_df, \n",
    "                kind='point', height=5, \n",
    "                aspect=1.5)"
   ]
  },
  {
   "cell_type": "markdown",
   "id": "ea2f5d96",
   "metadata": {},
   "source": [
    "# Average Number of Daily Requests per Host"
   ]
  },
  {
   "cell_type": "code",
   "execution_count": 46,
   "id": "07487b6e",
   "metadata": {},
   "outputs": [
    {
     "data": {
      "text/html": [
       "<div>\n",
       "<style scoped>\n",
       "    .dataframe tbody tr th:only-of-type {\n",
       "        vertical-align: middle;\n",
       "    }\n",
       "\n",
       "    .dataframe tbody tr th {\n",
       "        vertical-align: top;\n",
       "    }\n",
       "\n",
       "    .dataframe thead th {\n",
       "        text-align: right;\n",
       "    }\n",
       "</style>\n",
       "<table border=\"1\" class=\"dataframe\">\n",
       "  <thead>\n",
       "    <tr style=\"text-align: right;\">\n",
       "      <th></th>\n",
       "      <th>day</th>\n",
       "      <th>total_reqs</th>\n",
       "      <th>total_hosts</th>\n",
       "      <th>avg_reqs</th>\n",
       "    </tr>\n",
       "  </thead>\n",
       "  <tbody>\n",
       "    <tr>\n",
       "      <th>0</th>\n",
       "      <td>22</td>\n",
       "      <td>2160893</td>\n",
       "      <td>53196</td>\n",
       "      <td>40.621344</td>\n",
       "    </tr>\n",
       "    <tr>\n",
       "      <th>1</th>\n",
       "      <td>23</td>\n",
       "      <td>2328468</td>\n",
       "      <td>58900</td>\n",
       "      <td>39.532564</td>\n",
       "    </tr>\n",
       "    <tr>\n",
       "      <th>2</th>\n",
       "      <td>24</td>\n",
       "      <td>725951</td>\n",
       "      <td>20917</td>\n",
       "      <td>34.706268</td>\n",
       "    </tr>\n",
       "  </tbody>\n",
       "</table>\n",
       "</div>"
      ],
      "text/plain": [
       "   day  total_reqs  total_hosts   avg_reqs\n",
       "0   22     2160893        53196  40.621344\n",
       "1   23     2328468        58900  39.532564\n",
       "2   24      725951        20917  34.706268"
      ]
     },
     "execution_count": 46,
     "metadata": {},
     "output_type": "execute_result"
    }
   ],
   "source": [
    "daily_hosts_df = (host_day_distinct_df\n",
    "                     .groupBy('day')\n",
    "                     .count()\n",
    "                     .select(col(\"day\"), \n",
    "                                      col(\"count\").alias(\"total_hosts\")))\n",
    "\n",
    "total_daily_reqests_df = (df\n",
    "                              .select(F.dayofmonth(\"date\")\n",
    "                                          .alias(\"day\"))\n",
    "                              .groupBy(\"day\")\n",
    "                              .count()\n",
    "                              .select(col(\"day\"), \n",
    "                                      col(\"count\").alias(\"total_reqs\")))\n",
    "\n",
    "avg_daily_reqests_per_host_df = total_daily_reqests_df.join(daily_hosts_df, 'day')\n",
    "avg_daily_reqests_per_host_df = (avg_daily_reqests_per_host_df\n",
    "                                    .withColumn('avg_reqs', col('total_reqs') / col('total_hosts'))\n",
    "                                    .sort(\"day\"))\n",
    "avg_daily_reqests_per_host_df = avg_daily_reqests_per_host_df.toPandas()\n",
    "avg_daily_reqests_per_host_df\n"
   ]
  },
  {
   "cell_type": "code",
   "execution_count": 47,
   "id": "d47f95a3",
   "metadata": {},
   "outputs": [
    {
     "data": {
      "image/png": "[encoded data removed]",
      "text/plain": [
       "<Figure size 540x360 with 1 Axes>"
      ]
     },
     "metadata": {
      "needs_background": "light"
     },
     "output_type": "display_data"
    }
   ],
   "source": [
    "c = sns.catplot(x='day', y='avg_reqs', \n",
    "                data=avg_daily_reqests_per_host_df, \n",
    "                kind='point', height=5, aspect=1.5)"
   ]
  },
  {
   "cell_type": "markdown",
   "id": "0f924520",
   "metadata": {},
   "source": [
    "# Counting 404 Response Codes"
   ]
  },
  {
   "cell_type": "code",
   "execution_count": 48,
   "id": "336a4897",
   "metadata": {},
   "outputs": [
    {
     "name": "stdout",
     "output_type": "stream",
     "text": [
      "Total 404 responses: 52843\n"
     ]
    }
   ],
   "source": [
    "not_found_df = df.filter(df[\"status\"] == 404).cache()\n",
    "print(('Total 404 responses: {}').format(not_found_df.count()))"
   ]
  },
  {
   "cell_type": "markdown",
   "id": "01d668af",
   "metadata": {},
   "source": [
    "> Listing the Top Twenty 404 Response Code Hosts"
   ]
  },
  {
   "cell_type": "code",
   "execution_count": 49,
   "id": "bc1c31b5",
   "metadata": {},
   "outputs": [
    {
     "name": "stdout",
     "output_type": "stream",
     "text": [
      "+---------------+-----+\n",
      "|client         |count|\n",
      "+---------------+-----+\n",
      "|66.249.66.194  |6719 |\n",
      "|2.191.96.86    |612  |\n",
      "|5.117.116.238  |431  |\n",
      "|91.99.30.32    |361  |\n",
      "|151.239.241.163|330  |\n",
      "|86.55.249.206  |272  |\n",
      "|95.82.39.94    |264  |\n",
      "|31.184.130.52  |258  |\n",
      "|5.78.190.233   |253  |\n",
      "|37.32.29.198   |199  |\n",
      "|86.55.53.198   |183  |\n",
      "|5.210.207.0    |178  |\n",
      "|178.131.221.63 |151  |\n",
      "|31.2.167.54    |128  |\n",
      "|66.249.66.197  |124  |\n",
      "|5.117.12.120   |112  |\n",
      "|178.197.228.166|112  |\n",
      "|222.147.109.159|111  |\n",
      "|151.241.215.72 |104  |\n",
      "|5.218.60.6     |104  |\n",
      "+---------------+-----+\n",
      "\n"
     ]
    }
   ],
   "source": [
    "hosts_404_count_df = (not_found_df\n",
    "                          .groupBy(\"client\")\n",
    "                          .count()\n",
    "                          .sort(\"count\", ascending=False)\n",
    "                          .limit(20))\n",
    "\n",
    "hosts_404_count_df.show(truncate=False)"
   ]
  },
  {
   "cell_type": "markdown",
   "id": "a4385452",
   "metadata": {},
   "source": [
    "# Visualizing 404 Errors per Day"
   ]
  },
  {
   "cell_type": "code",
   "execution_count": 50,
   "id": "7966d3fd",
   "metadata": {},
   "outputs": [
    {
     "data": {
      "text/html": [
       "<div>\n",
       "<style scoped>\n",
       "    .dataframe tbody tr th:only-of-type {\n",
       "        vertical-align: middle;\n",
       "    }\n",
       "\n",
       "    .dataframe tbody tr th {\n",
       "        vertical-align: top;\n",
       "    }\n",
       "\n",
       "    .dataframe thead th {\n",
       "        text-align: right;\n",
       "    }\n",
       "</style>\n",
       "<table border=\"1\" class=\"dataframe\">\n",
       "  <thead>\n",
       "    <tr style=\"text-align: right;\">\n",
       "      <th></th>\n",
       "      <th>day</th>\n",
       "      <th>count</th>\n",
       "    </tr>\n",
       "  </thead>\n",
       "  <tbody>\n",
       "    <tr>\n",
       "      <th>0</th>\n",
       "      <td>22</td>\n",
       "      <td>20955</td>\n",
       "    </tr>\n",
       "    <tr>\n",
       "      <th>1</th>\n",
       "      <td>23</td>\n",
       "      <td>23737</td>\n",
       "    </tr>\n",
       "    <tr>\n",
       "      <th>2</th>\n",
       "      <td>24</td>\n",
       "      <td>8151</td>\n",
       "    </tr>\n",
       "  </tbody>\n",
       "</table>\n",
       "</div>"
      ],
      "text/plain": [
       "   day  count\n",
       "0   22  20955\n",
       "1   23  23737\n",
       "2   24   8151"
      ]
     },
     "execution_count": 50,
     "metadata": {},
     "output_type": "execute_result"
    }
   ],
   "source": [
    "errors_by_date_sorted_df = (not_found_df\n",
    "                                .groupBy(F.dayofmonth('date').alias('day'))\n",
    "                                .count()\n",
    "                                .sort(\"day\"))\n",
    "\n",
    "errors_by_date_sorted_pd_df = errors_by_date_sorted_df.toPandas()\n",
    "errors_by_date_sorted_pd_df"
   ]
  },
  {
   "cell_type": "code",
   "execution_count": 51,
   "id": "a9b42dc7",
   "metadata": {},
   "outputs": [
    {
     "data": {
      "image/png": "[encoded data removed]",
      "text/plain": [
       "<Figure size 540x360 with 1 Axes>"
      ]
     },
     "metadata": {
      "needs_background": "light"
     },
     "output_type": "display_data"
    }
   ],
   "source": [
    "c = sns.catplot(x='day', y='count', \n",
    "                data=errors_by_date_sorted_pd_df, \n",
    "                kind='point', height=5, aspect=1.5)"
   ]
  },
  {
   "cell_type": "markdown",
   "id": "a9ffdb5e",
   "metadata": {},
   "source": [
    "# Visualizing Hourly 404 Errors"
   ]
  },
  {
   "cell_type": "code",
   "execution_count": 52,
   "id": "2eac8b17",
   "metadata": {},
   "outputs": [],
   "source": [
    "hourly_avg_errors_sorted_df = (not_found_df\n",
    "                                   .groupBy(F.hour('date')\n",
    "                                             .alias('hour'))\n",
    "                                   .count()\n",
    "                                   .sort('hour'))\n",
    "hourly_avg_errors_sorted_pd_df = hourly_avg_errors_sorted_df.toPandas()"
   ]
  },
  {
   "cell_type": "code",
   "execution_count": 53,
   "id": "a7ac8667",
   "metadata": {},
   "outputs": [
    {
     "data": {
      "image/png": "[encoded data removed]",
      "text/plain": [
       "<Figure size 540x360 with 1 Axes>"
      ]
     },
     "metadata": {
      "needs_background": "light"
     },
     "output_type": "display_data"
    }
   ],
   "source": [
    "c = sns.catplot(x='hour', y='count', \n",
    "                data=hourly_avg_errors_sorted_pd_df, \n",
    "                kind='bar', height=5, aspect=1.5)"
   ]
  },
  {
   "cell_type": "markdown",
   "id": "1a293bcc",
   "metadata": {},
   "source": [
    "## clustering "
   ]
  },
  {
   "cell_type": "code",
   "execution_count": 54,
   "id": "30b00443",
   "metadata": {},
   "outputs": [],
   "source": [
    "from pyspark.ml.fpm import FPGrowth\n",
    "from pyspark.ml.feature import VectorAssembler\n",
    "from pyspark.ml.clustering import KMeans\n",
    "from pyspark.ml.evaluation import ClusteringEvaluator\n",
    "from pyspark.sql.types import *\n",
    "import matplotlib.pyplot as plt"
   ]
  },
  {
   "cell_type": "code",
   "execution_count": 55,
   "id": "654f6e36",
   "metadata": {},
   "outputs": [],
   "source": [
    "df = df.withColumn(\"size\", df[\"size\"].cast(IntegerType()))"
   ]
  },
  {
   "cell_type": "code",
   "execution_count": 56,
   "id": "49077139",
   "metadata": {},
   "outputs": [
    {
     "name": "stdout",
     "output_type": "stream",
     "text": [
      "+---------+\n",
      "|features |\n",
      "+---------+\n",
      "|[30577.0]|\n",
      "|[5667.0] |\n",
      "|[5379.0] |\n",
      "|[1696.0] |\n",
      "|[41483.0]|\n",
      "|[2654.0] |\n",
      "|[3688.0] |\n",
      "|[14776.0]|\n",
      "|[34277.0]|\n",
      "|[1695.0] |\n",
      "|[39677.0]|\n",
      "|[9831.0] |\n",
      "|[20406.0]|\n",
      "|[1796.0] |\n",
      "|[41725.0]|\n",
      "|[2739.0] |\n",
      "|[33617.0]|\n",
      "|[2788.0] |\n",
      "|[3481.0] |\n",
      "|[19451.0]|\n",
      "+---------+\n",
      "only showing top 20 rows\n",
      "\n"
     ]
    }
   ],
   "source": [
    "assembler = VectorAssembler(inputCols=[\"size\"],outputCol=\"features\")\n",
    "cl=assembler.transform(df.select(\"size\"))\n",
    "cl.select(\"features\").show(truncate=False)"
   ]
  },
  {
   "cell_type": "code",
   "execution_count": 57,
   "id": "ba598b19",
   "metadata": {},
   "outputs": [],
   "source": [
    "kmeans = KMeans().setK(3).setSeed(1)\n",
    "model = kmeans.fit(cl)"
   ]
  },
  {
   "cell_type": "code",
   "execution_count": 58,
   "id": "9579c269",
   "metadata": {},
   "outputs": [],
   "source": [
    "# Make predictions\n",
    "predictions = model.transform(cl)"
   ]
  },
  {
   "cell_type": "code",
   "execution_count": 62,
   "id": "f8688b9a",
   "metadata": {},
   "outputs": [
    {
     "data": {
      "text/plain": [
       "pyspark.sql.dataframe.DataFrame"
      ]
     },
     "execution_count": 62,
     "metadata": {},
     "output_type": "execute_result"
    }
   ],
   "source": [
    "type(predictions)"
   ]
  },
  {
   "cell_type": "code",
   "execution_count": 63,
   "id": "1c2c71b3",
   "metadata": {
    "scrolled": true
   },
   "outputs": [
    {
     "name": "stdout",
     "output_type": "stream",
     "text": [
      "+----------+-------+\n",
      "|prediction|  count|\n",
      "+----------+-------+\n",
      "|         0|4952468|\n",
      "|         2| 255967|\n",
      "|         1|   6877|\n",
      "+----------+-------+\n",
      "\n"
     ]
    }
   ],
   "source": [
    "predictions.groupBy('prediction').count().orderBy('count', ascending=False).show()"
   ]
  },
  {
   "cell_type": "code",
   "execution_count": 64,
   "id": "35d19ce1",
   "metadata": {},
   "outputs": [],
   "source": [
    "evaluator = ClusteringEvaluator()"
   ]
  },
  {
   "cell_type": "code",
   "execution_count": 65,
   "id": "8afee3bc",
   "metadata": {},
   "outputs": [
    {
     "name": "stdout",
     "output_type": "stream",
     "text": [
      "Silhouette with squared euclidean distance = 0.9370535683711652\n"
     ]
    }
   ],
   "source": [
    "silhouette = evaluator.evaluate(predictions)\n",
    "print(\"Silhouette with squared euclidean distance = \" + str(silhouette))"
   ]
  }
 ],
 "metadata": {
  "kernelspec": {
   "display_name": "Python 3 (ipykernel)",
   "language": "python",
   "name": "python3"
  },
  "language_info": {
   "codemirror_mode": {
    "name": "ipython",
    "version": 3
   },
   "file_extension": ".py",
   "mimetype": "text/x-python",
   "name": "python",
   "nbconvert_exporter": "python",
   "pygments_lexer": "ipython3",
   "version": "3.8.8"
  }
 },
 "nbformat": 4,
 "nbformat_minor": 5
}
