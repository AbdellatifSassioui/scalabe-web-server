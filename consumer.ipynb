{
 "cells": [
  {
   "cell_type": "code",
   "execution_count": 1,
   "id": "4fd4cd93-7d45-41e9-8fe6-e99430a23c1e",
   "metadata": {},
   "outputs": [],
   "source": [
    "from kafka import KafkaConsumer\n",
    "from pymongo import MongoClient\n",
    "import re\n",
    "from tqdm import tqdm\n",
    "from time import sleep\n",
    "from json import loads"
   ]
  },
  {
   "cell_type": "code",
   "execution_count": 2,
   "id": "0e37834f",
   "metadata": {},
   "outputs": [],
   "source": [
    "common_regex = '^(?P<client>\\S+) \\S+ (?P<userid>\\S+) \\[(?P<datetime>[^\\]]+)\\] \"(?P<method>[A-Z]+) (?P<request>[^ \"]+)? HTTP/[0-9.]+\" (?P<status>[0-9]{3}) (?P<size>[0-9]+|-)'\n",
    "combined_regex = '^(?P<client>\\S+) \\S+ (?P<userid>\\S+) \\[(?P<datetime>[^\\]]+)\\] \"(?P<method>[A-Z]+) (?P<request>[^ \"]+)? HTTP/[0-9.]+\" (?P<status>[0-9]{3}) (?P<size>[0-9]+|-) \"(?P<referrer>[^\"]*)\" \"(?P<useragent>[^\"]*)'\n",
    "columns = ['client', 'userid', 'datetime', 'method', 'request', 'status', 'size', 'referer', 'user_agent']"
   ]
  },
  {
   "cell_type": "code",
   "execution_count": 16,
   "id": "a612240b",
   "metadata": {},
   "outputs": [],
   "source": [
    "topic='tst'"
   ]
  },
  {
   "cell_type": "code",
   "execution_count": 17,
   "id": "f2803557-6101-42c4-97be-c3362c9a492a",
   "metadata": {
    "scrolled": true
   },
   "outputs": [],
   "source": [
    "consumer = KafkaConsumer(\n",
    "    topic,\n",
    "     bootstrap_servers=['localhost:9092'],\n",
    "     auto_offset_reset='earliest',\n",
    "    value_deserializer=lambda x: x.decode('utf-8')\n",
    "    )"
   ]
  },
  {
   "cell_type": "code",
   "execution_count": 18,
   "id": "a2f82fed-bd0b-43e3-ba12-87b121a624f5",
   "metadata": {},
   "outputs": [
    {
     "name": "stdout",
     "output_type": "stream",
     "text": [
      "The database exists.\n"
     ]
    }
   ],
   "source": [
    "myclient = MongoClient(\"mongodb://localhost:27017/\")\n",
    "dblist = myclient.list_database_names()\n",
    "if \"mydatabase\" in dblist:\n",
    "  print(\"The database exists.\")\n",
    "else:\n",
    "    mydb = myclient[\"mydatabase\"]"
   ]
  },
  {
   "cell_type": "code",
   "execution_count": 19,
   "id": "50a8e31f-2fbe-4d95-8d11-357628eabcff",
   "metadata": {},
   "outputs": [],
   "source": [
    "mydb = myclient[\"mydatabase\"]\n",
    "mycol = mydb[\"logs\"]"
   ]
  },
  {
   "cell_type": "code",
   "execution_count": 20,
   "id": "1f80a4ef",
   "metadata": {},
   "outputs": [],
   "source": [
    "def preprocess(line):\n",
    "    d=dict()\n",
    "    for i,col in enumerate(columns):\n",
    "        d[col]=line[0][i]\n",
    "    return d"
   ]
  },
  {
   "cell_type": "code",
   "execution_count": 22,
   "id": "9f48cdca-3055-49d9-bff4-bfd522298252",
   "metadata": {},
   "outputs": [
    {
     "name": "stdout",
     "output_type": "stream",
     "text": [
      "1478\n",
      "{'client': '66.249.66.194', 'userid': '-', 'datetime': '22/Jan/2019:04:07:25 +0330', 'method': 'GET', 'request': '/filter/null%2Ct399?page=0&phrase=%D9%85%D8%A7%DB%8C+%D8%B3%D8%A7%D9%86&o=t', 'status': '302', 'size': '0', 'referer': '-', 'user_agent': 'Mozilla/5.0 (compatible; Googlebot/2.1; +http://www.google.com/bot.html)', '_id': ObjectId('61fa436f465a700d605d10c4')} added to Collection(Database(MongoClient(host=['localhost:27017'], document_class=dict, tz_aware=False, connect=True), 'mydatabase'), 'logs')\n",
      "{'client': '130.185.74.243', 'userid': '-', 'datetime': '22/Jan/2019:04:07:25 +0330', 'method': 'GET', 'request': '/filter/stexists,p6446,t164,b262', 'status': '200', 'size': '32557', 'referer': '-', 'user_agent': 'Mozilla/5.0 (Windows NT 6.1; rv:42.0) Gecko/20100101 Firefox/42.0', '_id': ObjectId('61fa4373465a700d605d10c5')} added to Collection(Database(MongoClient(host=['localhost:27017'], document_class=dict, tz_aware=False, connect=True), 'mydatabase'), 'logs')\n",
      "{'client': '66.249.66.194', 'userid': '-', 'datetime': '22/Jan/2019:04:07:26 +0330', 'method': 'GET', 'request': '/filter/null%2Ct399?page=0&phrase=%D9%85%D8%A7%DB%8C+%D8%B3%D8%A7%D9%86', 'status': '200', 'size': '31319', 'referer': '-', 'user_agent': 'Mozilla/5.0 (compatible; Googlebot/2.1; +http://www.google.com/bot.html)', '_id': ObjectId('61fa4377465a700d605d10c6')} added to Collection(Database(MongoClient(host=['localhost:27017'], document_class=dict, tz_aware=False, connect=True), 'mydatabase'), 'logs')\n",
      "{'client': '207.46.13.136', 'userid': '-', 'datetime': '22/Jan/2019:04:07:26 +0330', 'method': 'GET', 'request': '/image/get?path=/Image/4(45).jpg', 'status': '200', 'size': '9406', 'referer': '-', 'user_agent': 'Mozilla/5.0 (compatible; bingbot/2.0; +http://www.bing.com/bingbot.htm)', '_id': ObjectId('61fa437b465a700d605d10c7')} added to Collection(Database(MongoClient(host=['localhost:27017'], document_class=dict, tz_aware=False, connect=True), 'mydatabase'), 'logs')\n",
      "{'client': '204.18.72.194', 'userid': '-', 'datetime': '22/Jan/2019:04:07:26 +0330', 'method': 'GET', 'request': '/settings/logo', 'status': '200', 'size': '4120', 'referer': 'https://www.zanbil.ir/m/filter/b1%2Cp5%2Cb2', 'user_agent': 'Mozilla/5.0 (Linux; Android 5.1.1; SAMSUNG SM-J500H Build/LMY48B) AppleWebKit/537.36 (KHTML, like Gecko) SamsungBrowser/3.3 Chrome/38.0.2125.102 Mobile Safari/537.36', '_id': ObjectId('61fa437f465a700d605d10c8')} added to Collection(Database(MongoClient(host=['localhost:27017'], document_class=dict, tz_aware=False, connect=True), 'mydatabase'), 'logs')\n",
      "{'client': '157.55.39.245', 'userid': '-', 'datetime': '22/Jan/2019:04:07:26 +0330', 'method': 'GET', 'request': '/blog/tag/%d8%aa%d8%ae%d9%81%db%8c%d9%81-%d9%85%d8%ad%d8%b5%d9%88%d9%84%d8%a7%d8%aa-%d8%b3%d8%a7%d9%85%d8%b3%d9%88%d9%86%da%af/feed/', 'status': '200', 'size': '1962', 'referer': '-', 'user_agent': 'Mozilla/5.0 (compatible; bingbot/2.0; +http://www.bing.com/bingbot.htm)', '_id': ObjectId('61fa4383465a700d605d10c9')} added to Collection(Database(MongoClient(host=['localhost:27017'], document_class=dict, tz_aware=False, connect=True), 'mydatabase'), 'logs')\n",
      "{'client': '204.18.72.194', 'userid': '-', 'datetime': '22/Jan/2019:04:07:26 +0330', 'method': 'GET', 'request': '/image/57679/productModel/200x200', 'status': '200', 'size': '4415', 'referer': 'https://www.zanbil.ir/m/filter/b1%2Cp5%2Cb2', 'user_agent': 'Mozilla/5.0 (Linux; Android 5.1.1; SAMSUNG SM-J500H Build/LMY48B) AppleWebKit/537.36 (KHTML, like Gecko) SamsungBrowser/3.3 Chrome/38.0.2125.102 Mobile Safari/537.36', '_id': ObjectId('61fa4387465a700d605d10ca')} added to Collection(Database(MongoClient(host=['localhost:27017'], document_class=dict, tz_aware=False, connect=True), 'mydatabase'), 'logs')\n",
      "{'client': '204.18.72.194', 'userid': '-', 'datetime': '22/Jan/2019:04:07:26 +0330', 'method': 'GET', 'request': '/image/58351/productModel/200x200', 'status': '200', 'size': '4431', 'referer': 'https://www.zanbil.ir/m/filter/b1%2Cp5%2Cb2', 'user_agent': 'Mozilla/5.0 (Linux; Android 5.1.1; SAMSUNG SM-J500H Build/LMY48B) AppleWebKit/537.36 (KHTML, like Gecko) SamsungBrowser/3.3 Chrome/38.0.2125.102 Mobile Safari/537.36', '_id': ObjectId('61fa438b465a700d605d10cb')} added to Collection(Database(MongoClient(host=['localhost:27017'], document_class=dict, tz_aware=False, connect=True), 'mydatabase'), 'logs')\n",
      "{'client': '204.18.72.194', 'userid': '-', 'datetime': '22/Jan/2019:04:07:26 +0330', 'method': 'GET', 'request': '/image/61790/productModel/200x200', 'status': '200', 'size': '3943', 'referer': 'https://www.zanbil.ir/m/filter/b1%2Cp5%2Cb2', 'user_agent': 'Mozilla/5.0 (Linux; Android 5.1.1; SAMSUNG SM-J500H Build/LMY48B) AppleWebKit/537.36 (KHTML, like Gecko) SamsungBrowser/3.3 Chrome/38.0.2125.102 Mobile Safari/537.36', '_id': ObjectId('61fa438f465a700d605d10cc')} added to Collection(Database(MongoClient(host=['localhost:27017'], document_class=dict, tz_aware=False, connect=True), 'mydatabase'), 'logs')\n",
      "{'client': '204.18.72.194', 'userid': '-', 'datetime': '22/Jan/2019:04:07:26 +0330', 'method': 'GET', 'request': '/image/54272/productModel/200x200', 'status': '200', 'size': '3298', 'referer': 'https://www.zanbil.ir/m/filter/b1%2Cp5%2Cb2', 'user_agent': 'Mozilla/5.0 (Linux; Android 5.1.1; SAMSUNG SM-J500H Build/LMY48B) AppleWebKit/537.36 (KHTML, like Gecko) SamsungBrowser/3.3 Chrome/38.0.2125.102 Mobile Safari/537.36', '_id': ObjectId('61fa4393465a700d605d10cd')} added to Collection(Database(MongoClient(host=['localhost:27017'], document_class=dict, tz_aware=False, connect=True), 'mydatabase'), 'logs')\n",
      "{'client': '130.185.74.243', 'userid': '-', 'datetime': '22/Jan/2019:04:07:26 +0330', 'method': 'GET', 'request': '/filter/stexists,p6446,t165,b265', 'status': '200', 'size': '30343', 'referer': '-', 'user_agent': 'Mozilla/5.0 (Windows NT 6.1; rv:42.0) Gecko/20100101 Firefox/42.0', '_id': ObjectId('61fa4397465a700d605d10ce')} added to Collection(Database(MongoClient(host=['localhost:27017'], document_class=dict, tz_aware=False, connect=True), 'mydatabase'), 'logs')\n",
      "{'client': '66.249.66.91', 'userid': '-', 'datetime': '22/Jan/2019:04:07:26 +0330', 'method': 'GET', 'request': '/product/30674/60429/%D8%B9%D8%B7%D8%B1-%D9%88-%D8%A7%D8%AF%DA%A9%D9%84%D9%86-%D9%85%D8%B1%D8%AF%D8%A7%D9%86%D9%87-YVES-SAINT-LAURENT-%D9%85%D8%AF%D9%84-L-Homme-Libre', 'status': '200', 'size': '43481', 'referer': '-', 'user_agent': 'Mozilla/5.0 (compatible; Googlebot/2.1; +http://www.google.com/bot.html)', '_id': ObjectId('61fa439b465a700d605d10cf')} added to Collection(Database(MongoClient(host=['localhost:27017'], document_class=dict, tz_aware=False, connect=True), 'mydatabase'), 'logs')\n",
      "{'client': '157.55.39.245', 'userid': '-', 'datetime': '22/Jan/2019:04:07:27 +0330', 'method': 'GET', 'request': '/image/29201?name=\\\\xD8\\\\xB3\\\\xD8\\\\xAA-\\\\xDA\\\\xA9\\\\xD8\\\\xA7\\\\xD9\\\\x84\\\\xD8\\\\xB3\\\\xDA\\\\xA9\\\\xD9\\\\x87-\\\\xD9\\\\x88-\\\\xDA\\\\xA9\\\\xD8\\\\xB1\\\\xDB\\\\x8C\\\\xD8\\\\xB1-\\\\xD9\\\\x85\\\\xD8\\\\xAF\\\\xD9\\\\x84-litetrax-4-5.jpg&wh=max', 'status': '200', 'size': '28140', 'referer': '-', 'user_agent': 'Mozilla/5.0 (compatible; bingbot/2.0; +http://www.bing.com/bingbot.htm)', '_id': ObjectId('61fa439f465a700d605d10d0')} added to Collection(Database(MongoClient(host=['localhost:27017'], document_class=dict, tz_aware=False, connect=True), 'mydatabase'), 'logs')\n",
      "{'client': '204.18.72.194', 'userid': '-', 'datetime': '22/Jan/2019:04:07:27 +0330', 'method': 'GET', 'request': '/image/879/brand', 'status': '200', 'size': '3348', 'referer': 'https://www.zanbil.ir/m/filter/b1%2Cp5%2Cb2', 'user_agent': 'Mozilla/5.0 (Linux; Android 5.1.1; SAMSUNG SM-J500H Build/LMY48B) AppleWebKit/537.36 (KHTML, like Gecko) SamsungBrowser/3.3 Chrome/38.0.2125.102 Mobile Safari/537.36', '_id': ObjectId('61fa43a3465a700d605d10d1')} added to Collection(Database(MongoClient(host=['localhost:27017'], document_class=dict, tz_aware=False, connect=True), 'mydatabase'), 'logs')\n",
      "{'client': '204.18.72.194', 'userid': '-', 'datetime': '22/Jan/2019:04:07:27 +0330', 'method': 'GET', 'request': '/image/99/brand', 'status': '200', 'size': '2136', 'referer': 'https://www.zanbil.ir/m/filter/b1%2Cp5%2Cb2', 'user_agent': 'Mozilla/5.0 (Linux; Android 5.1.1; SAMSUNG SM-J500H Build/LMY48B) AppleWebKit/537.36 (KHTML, like Gecko) SamsungBrowser/3.3 Chrome/38.0.2125.102 Mobile Safari/537.36', '_id': ObjectId('61fa43a7465a700d605d10d2')} added to Collection(Database(MongoClient(host=['localhost:27017'], document_class=dict, tz_aware=False, connect=True), 'mydatabase'), 'logs')\n"
     ]
    },
    {
     "name": "stdout",
     "output_type": "stream",
     "text": [
      "{'client': '204.18.72.194', 'userid': '-', 'datetime': '22/Jan/2019:04:07:27 +0330', 'method': 'GET', 'request': '/image/131/brand', 'status': '200', 'size': '2599', 'referer': 'https://www.zanbil.ir/m/filter/b1%2Cp5%2Cb2', 'user_agent': 'Mozilla/5.0 (Linux; Android 5.1.1; SAMSUNG SM-J500H Build/LMY48B) AppleWebKit/537.36 (KHTML, like Gecko) SamsungBrowser/3.3 Chrome/38.0.2125.102 Mobile Safari/537.36', '_id': ObjectId('61fa43ab465a700d605d10d3')} added to Collection(Database(MongoClient(host=['localhost:27017'], document_class=dict, tz_aware=False, connect=True), 'mydatabase'), 'logs')\n",
      "{'client': '204.18.72.194', 'userid': '-', 'datetime': '22/Jan/2019:04:07:27 +0330', 'method': 'GET', 'request': '/image/29/productTypeType', 'status': '200', 'size': '10813', 'referer': 'https://www.zanbil.ir/m/filter/b1%2Cp5%2Cb2', 'user_agent': 'Mozilla/5.0 (Linux; Android 5.1.1; SAMSUNG SM-J500H Build/LMY48B) AppleWebKit/537.36 (KHTML, like Gecko) SamsungBrowser/3.3 Chrome/38.0.2125.102 Mobile Safari/537.36', '_id': ObjectId('61fa43af465a700d605d10d4')} added to Collection(Database(MongoClient(host=['localhost:27017'], document_class=dict, tz_aware=False, connect=True), 'mydatabase'), 'logs')\n",
      "{'client': '204.18.72.194', 'userid': '-', 'datetime': '22/Jan/2019:04:07:27 +0330', 'method': 'GET', 'request': '/image/177/productTypeType', 'status': '200', 'size': '10969', 'referer': 'https://www.zanbil.ir/m/filter/b1%2Cp5%2Cb2', 'user_agent': 'Mozilla/5.0 (Linux; Android 5.1.1; SAMSUNG SM-J500H Build/LMY48B) AppleWebKit/537.36 (KHTML, like Gecko) SamsungBrowser/3.3 Chrome/38.0.2125.102 Mobile Safari/537.36', '_id': ObjectId('61fa43b3465a700d605d10d5')} added to Collection(Database(MongoClient(host=['localhost:27017'], document_class=dict, tz_aware=False, connect=True), 'mydatabase'), 'logs')\n",
      "{'client': '204.18.72.194', 'userid': '-', 'datetime': '22/Jan/2019:04:07:27 +0330', 'method': 'GET', 'request': '/image/982/mainSlideMobile', 'status': '200', 'size': '58396', 'referer': 'https://www.zanbil.ir/m/filter/b1%2Cp5%2Cb2', 'user_agent': 'Mozilla/5.0 (Linux; Android 5.1.1; SAMSUNG SM-J500H Build/LMY48B) AppleWebKit/537.36 (KHTML, like Gecko) SamsungBrowser/3.3 Chrome/38.0.2125.102 Mobile Safari/537.36', '_id': ObjectId('61fa43b7465a700d605d10d6')} added to Collection(Database(MongoClient(host=['localhost:27017'], document_class=dict, tz_aware=False, connect=True), 'mydatabase'), 'logs')\n",
      "{'client': '204.18.72.194', 'userid': '-', 'datetime': '22/Jan/2019:04:07:27 +0330', 'method': 'GET', 'request': '/image/55649/productModel/200x200', 'status': '200', 'size': '3516', 'referer': 'https://www.zanbil.ir/m/filter/b1%2Cp5%2Cb2', 'user_agent': 'Mozilla/5.0 (Linux; Android 5.1.1; SAMSUNG SM-J500H Build/LMY48B) AppleWebKit/537.36 (KHTML, like Gecko) SamsungBrowser/3.3 Chrome/38.0.2125.102 Mobile Safari/537.36', '_id': ObjectId('61fa43bb465a700d605d10d7')} added to Collection(Database(MongoClient(host=['localhost:27017'], document_class=dict, tz_aware=False, connect=True), 'mydatabase'), 'logs')\n",
      "{'client': '204.18.72.194', 'userid': '-', 'datetime': '22/Jan/2019:04:07:27 +0330', 'method': 'GET', 'request': '/image/54273/productModel/200x200', 'status': '200', 'size': '3249', 'referer': 'https://www.zanbil.ir/m/filter/b1%2Cp5%2Cb2', 'user_agent': 'Mozilla/5.0 (Linux; Android 5.1.1; SAMSUNG SM-J500H Build/LMY48B) AppleWebKit/537.36 (KHTML, like Gecko) SamsungBrowser/3.3 Chrome/38.0.2125.102 Mobile Safari/537.36', '_id': ObjectId('61fa43bf465a700d605d10d8')} added to Collection(Database(MongoClient(host=['localhost:27017'], document_class=dict, tz_aware=False, connect=True), 'mydatabase'), 'logs')\n",
      "{'client': '130.185.74.243', 'userid': '-', 'datetime': '22/Jan/2019:04:07:27 +0330', 'method': 'GET', 'request': '/filter/stexists,p6446,t165,b332', 'status': '200', 'size': '33322', 'referer': '-', 'user_agent': 'Mozilla/5.0 (Windows NT 6.1; rv:42.0) Gecko/20100101 Firefox/42.0', '_id': ObjectId('61fa43c3465a700d605d10d9')} added to Collection(Database(MongoClient(host=['localhost:27017'], document_class=dict, tz_aware=False, connect=True), 'mydatabase'), 'logs')\n",
      "{'client': '5.160.157.20', 'userid': '-', 'datetime': '22/Jan/2019:04:07:27 +0330', 'method': 'GET', 'request': '/product/29274?model=58603', 'status': '301', 'size': '178', 'referer': '-', 'user_agent': 'Mozilla/5.0 (Windows NT 5.1; rv:8.0) Gecko/20100101 Firefox/8.0', '_id': ObjectId('61fa43c7465a700d605d10da')} added to Collection(Database(MongoClient(host=['localhost:27017'], document_class=dict, tz_aware=False, connect=True), 'mydatabase'), 'logs')\n",
      "{'client': '66.249.66.194', 'userid': '-', 'datetime': '22/Jan/2019:04:07:28 +0330', 'method': 'GET', 'request': '/m/filter/b1,b103,b126,b136,b143,b147,b148,b151,b183,b185,b188,b192,b20,b203,b209,b216,b218,b22,b221,b226,b231,b249,b256,b261,b270,b3,b308,b32,b36,b41,b42,b441,b481,b484,b485,b523,b548,b570,b573,b598,b6,b613,b614,b647,b648,b651,b701,b703,b874,b877,b88,b880,b883,b890,b900,b99,stexists', 'status': '200', 'size': '27466', 'referer': '-', 'user_agent': 'Mozilla/5.0 (Linux; Android 6.0.1; Nexus 5X Build/MMB29P) AppleWebKit/537.36 (KHTML, like Gecko) Chrome/41.0.2272.96 Mobile Safari/537.36 (compatible; Googlebot/2.1; +http://www.google.com/bot.html)', '_id': ObjectId('61fa43cb465a700d605d10db')} added to Collection(Database(MongoClient(host=['localhost:27017'], document_class=dict, tz_aware=False, connect=True), 'mydatabase'), 'logs')\n",
      "{'client': '204.18.72.194', 'userid': '-', 'datetime': '22/Jan/2019:04:07:28 +0330', 'method': 'GET', 'request': '/image/105/brand', 'status': '200', 'size': '2653', 'referer': 'https://www.zanbil.ir/m/filter/b1%2Cp5%2Cb2', 'user_agent': 'Mozilla/5.0 (Linux; Android 5.1.1; SAMSUNG SM-J500H Build/LMY48B) AppleWebKit/537.36 (KHTML, like Gecko) SamsungBrowser/3.3 Chrome/38.0.2125.102 Mobile Safari/537.36', '_id': ObjectId('61fa43cf465a700d605d10dc')} added to Collection(Database(MongoClient(host=['localhost:27017'], document_class=dict, tz_aware=False, connect=True), 'mydatabase'), 'logs')\n",
      "{'client': '204.18.72.194', 'userid': '-', 'datetime': '22/Jan/2019:04:07:28 +0330', 'method': 'GET', 'request': '/image/900/brand', 'status': '200', 'size': '4424', 'referer': 'https://www.zanbil.ir/m/filter/b1%2Cp5%2Cb2', 'user_agent': 'Mozilla/5.0 (Linux; Android 5.1.1; SAMSUNG SM-J500H Build/LMY48B) AppleWebKit/537.36 (KHTML, like Gecko) SamsungBrowser/3.3 Chrome/38.0.2125.102 Mobile Safari/537.36', '_id': ObjectId('61fa43d3465a700d605d10dd')} added to Collection(Database(MongoClient(host=['localhost:27017'], document_class=dict, tz_aware=False, connect=True), 'mydatabase'), 'logs')\n",
      "{'client': '204.18.72.194', 'userid': '-', 'datetime': '22/Jan/2019:04:07:28 +0330', 'method': 'GET', 'request': '/image/35/brand', 'status': '200', 'size': '2264', 'referer': 'https://www.zanbil.ir/m/filter/b1%2Cp5%2Cb2', 'user_agent': 'Mozilla/5.0 (Linux; Android 5.1.1; SAMSUNG SM-J500H Build/LMY48B) AppleWebKit/537.36 (KHTML, like Gecko) SamsungBrowser/3.3 Chrome/38.0.2125.102 Mobile Safari/537.36', '_id': ObjectId('61fa43d7465a700d605d10de')} added to Collection(Database(MongoClient(host=['localhost:27017'], document_class=dict, tz_aware=False, connect=True), 'mydatabase'), 'logs')\n",
      "{'client': '130.185.74.243', 'userid': '-', 'datetime': '22/Jan/2019:04:07:29 +0330', 'method': 'GET', 'request': '/filter/stexists,p6446,t165,b223', 'status': '200', 'size': '31378', 'referer': '-', 'user_agent': 'Mozilla/5.0 (Windows NT 6.1; rv:42.0) Gecko/20100101 Firefox/42.0', '_id': ObjectId('61fa43db465a700d605d10df')} added to Collection(Database(MongoClient(host=['localhost:27017'], document_class=dict, tz_aware=False, connect=True), 'mydatabase'), 'logs')\n",
      "{'client': '66.249.66.194', 'userid': '-', 'datetime': '22/Jan/2019:04:07:29 +0330', 'method': 'GET', 'request': '/m/filter?f=b696,b155,b858', 'status': '302', 'size': '0', 'referer': '-', 'user_agent': 'Mozilla/5.0 (compatible; Googlebot/2.1; +http://www.google.com/bot.html)', '_id': ObjectId('61fa43df465a700d605d10e0')} added to Collection(Database(MongoClient(host=['localhost:27017'], document_class=dict, tz_aware=False, connect=True), 'mydatabase'), 'logs')\n",
      "{'client': '204.18.72.194', 'userid': '-', 'datetime': '22/Jan/2019:04:07:29 +0330', 'method': 'GET', 'request': '/image/58356/productModel/200x200', 'status': '200', 'size': '2957', 'referer': 'https://www.zanbil.ir/m/filter/b1%2Cp5%2Cb2', 'user_agent': 'Mozilla/5.0 (Linux; Android 5.1.1; SAMSUNG SM-J500H Build/LMY48B) AppleWebKit/537.36 (KHTML, like Gecko) SamsungBrowser/3.3 Chrome/38.0.2125.102 Mobile Safari/537.36', '_id': ObjectId('61fa43e3465a700d605d10e1')} added to Collection(Database(MongoClient(host=['localhost:27017'], document_class=dict, tz_aware=False, connect=True), 'mydatabase'), 'logs')\n"
     ]
    },
    {
     "name": "stdout",
     "output_type": "stream",
     "text": [
      "{'client': '204.18.72.194', 'userid': '-', 'datetime': '22/Jan/2019:04:07:29 +0330', 'method': 'GET', 'request': '/image/55651/productModel/200x200', 'status': '200', 'size': '3867', 'referer': 'https://www.zanbil.ir/m/filter/b1%2Cp5%2Cb2', 'user_agent': 'Mozilla/5.0 (Linux; Android 5.1.1; SAMSUNG SM-J500H Build/LMY48B) AppleWebKit/537.36 (KHTML, like Gecko) SamsungBrowser/3.3 Chrome/38.0.2125.102 Mobile Safari/537.36', '_id': ObjectId('61fa43e7465a700d605d10e2')} added to Collection(Database(MongoClient(host=['localhost:27017'], document_class=dict, tz_aware=False, connect=True), 'mydatabase'), 'logs')\n",
      "{'client': '204.18.72.194', 'userid': '-', 'datetime': '22/Jan/2019:04:07:29 +0330', 'method': 'GET', 'request': '/image/62658/productModel/200x200', 'status': '200', 'size': '2573', 'referer': 'https://www.zanbil.ir/m/filter/b1%2Cp5%2Cb2', 'user_agent': 'Mozilla/5.0 (Linux; Android 5.1.1; SAMSUNG SM-J500H Build/LMY48B) AppleWebKit/537.36 (KHTML, like Gecko) SamsungBrowser/3.3 Chrome/38.0.2125.102 Mobile Safari/537.36', '_id': ObjectId('61fa43eb465a700d605d10e3')} added to Collection(Database(MongoClient(host=['localhost:27017'], document_class=dict, tz_aware=False, connect=True), 'mydatabase'), 'logs')\n",
      "{'client': '204.18.72.194', 'userid': '-', 'datetime': '22/Jan/2019:04:07:29 +0330', 'method': 'GET', 'request': '/image/1757/productModel/200x200', 'status': '200', 'size': '2553', 'referer': 'https://www.zanbil.ir/m/filter/b1%2Cp5%2Cb2', 'user_agent': 'Mozilla/5.0 (Linux; Android 5.1.1; SAMSUNG SM-J500H Build/LMY48B) AppleWebKit/537.36 (KHTML, like Gecko) SamsungBrowser/3.3 Chrome/38.0.2125.102 Mobile Safari/537.36', '_id': ObjectId('61fa43ef465a700d605d10e4')} added to Collection(Database(MongoClient(host=['localhost:27017'], document_class=dict, tz_aware=False, connect=True), 'mydatabase'), 'logs')\n",
      "{'client': '172.20.2.174', 'userid': '-', 'datetime': '22/Jan/2019:04:07:29 +0330', 'method': 'GET', 'request': '/site/ping', 'status': '200', 'size': '4', 'referer': '-', 'user_agent': '-', '_id': ObjectId('61fa43f3465a700d605d10e5')} added to Collection(Database(MongoClient(host=['localhost:27017'], document_class=dict, tz_aware=False, connect=True), 'mydatabase'), 'logs')\n",
      "{'client': '204.18.72.194', 'userid': '-', 'datetime': '22/Jan/2019:04:07:30 +0330', 'method': 'GET', 'request': '/image/33881/productModel/200x200', 'status': '200', 'size': '2692', 'referer': 'https://www.zanbil.ir/m/filter/b1%2Cp5%2Cb2', 'user_agent': 'Mozilla/5.0 (Linux; Android 5.1.1; SAMSUNG SM-J500H Build/LMY48B) AppleWebKit/537.36 (KHTML, like Gecko) SamsungBrowser/3.3 Chrome/38.0.2125.102 Mobile Safari/537.36', '_id': ObjectId('61fa43f7465a700d605d10e6')} added to Collection(Database(MongoClient(host=['localhost:27017'], document_class=dict, tz_aware=False, connect=True), 'mydatabase'), 'logs')\n",
      "{'client': '204.18.72.194', 'userid': '-', 'datetime': '22/Jan/2019:04:07:30 +0330', 'method': 'GET', 'request': '/image/62140/productModel/200x200', 'status': '200', 'size': '3666', 'referer': 'https://www.zanbil.ir/m/filter/b1%2Cp5%2Cb2', 'user_agent': 'Mozilla/5.0 (Linux; Android 5.1.1; SAMSUNG SM-J500H Build/LMY48B) AppleWebKit/537.36 (KHTML, like Gecko) SamsungBrowser/3.3 Chrome/38.0.2125.102 Mobile Safari/537.36', '_id': ObjectId('61fa43fb465a700d605d10e7')} added to Collection(Database(MongoClient(host=['localhost:27017'], document_class=dict, tz_aware=False, connect=True), 'mydatabase'), 'logs')\n",
      "{'client': '157.55.39.245', 'userid': '-', 'datetime': '22/Jan/2019:04:07:30 +0330', 'method': 'GET', 'request': '/filter/p6,b42', 'status': '200', 'size': '35456', 'referer': '-', 'user_agent': 'Mozilla/5.0 (compatible; bingbot/2.0; +http://www.bing.com/bingbot.htm)', '_id': ObjectId('61fa43ff465a700d605d10e8')} added to Collection(Database(MongoClient(host=['localhost:27017'], document_class=dict, tz_aware=False, connect=True), 'mydatabase'), 'logs')\n",
      "{'client': '130.185.74.243', 'userid': '-', 'datetime': '22/Jan/2019:04:07:30 +0330', 'method': 'GET', 'request': '/filter/stexists,p6446,t165,b223?page=1', 'status': '200', 'size': '31393', 'referer': '-', 'user_agent': 'Mozilla/5.0 (Windows NT 6.1; rv:42.0) Gecko/20100101 Firefox/42.0', '_id': ObjectId('61fa4403465a700d605d10e9')} added to Collection(Database(MongoClient(host=['localhost:27017'], document_class=dict, tz_aware=False, connect=True), 'mydatabase'), 'logs')\n",
      "{'client': '66.249.66.194', 'userid': '-', 'datetime': '22/Jan/2019:04:07:31 +0330', 'method': 'GET', 'request': '/filter/b696%2Cb155%2Cb858', 'status': '200', 'size': '29460', 'referer': '-', 'user_agent': 'Mozilla/5.0 (compatible; Googlebot/2.1; +http://www.google.com/bot.html)', '_id': ObjectId('61fa4407465a700d605d10ea')} added to Collection(Database(MongoClient(host=['localhost:27017'], document_class=dict, tz_aware=False, connect=True), 'mydatabase'), 'logs')\n",
      "{'client': '5.127.182.189', 'userid': '-', 'datetime': '22/Jan/2019:04:07:31 +0330', 'method': 'GET', 'request': '/m/product/34270/65248/%D9%84%D9%BE-%D8%AA%D8%A7%D9%BE-%D8%A7%DB%8C%D8%B3%D9%88%D8%B3-%D9%85%D8%AF%D9%84-Asus-X541UV', 'status': '200', 'size': '21607', 'referer': 'https://www.zanbil.ir/m/filter/p31385%2Cb19', 'user_agent': 'Mozilla/5.0 (Linux; Android 9; Mi A1) AppleWebKit/537.36 (KHTML, like Gecko) Chrome/71.0.3578.99 Mobile Safari/537.36', '_id': ObjectId('61fa440b465a700d605d10eb')} added to Collection(Database(MongoClient(host=['localhost:27017'], document_class=dict, tz_aware=False, connect=True), 'mydatabase'), 'logs')\n",
      "{'client': '5.113.178.253', 'userid': '-', 'datetime': '22/Jan/2019:04:07:31 +0330', 'method': 'GET', 'request': '/m/browse/wall-oven/%D9%81%D8%B1-%D8%AA%D9%88%DA%A9%D8%A7%D8%B1', 'status': '200', 'size': '18562', 'referer': '-', 'user_agent': 'Mozilla/5.0 (Linux; Android 4.4.4; Y635-L21 Build/HuaweiY635-L21) AppleWebKit/537.36 (KHTML, like Gecko) Version/4.0 Chrome/33.0.0.0 Mobile Safari/537.36', '_id': ObjectId('61fa440f465a700d605d10ec')} added to Collection(Database(MongoClient(host=['localhost:27017'], document_class=dict, tz_aware=False, connect=True), 'mydatabase'), 'logs')\n",
      "{'client': '91.99.72.15', 'userid': '-', 'datetime': '22/Jan/2019:04:07:31 +0330', 'method': 'GET', 'request': '/product/29426/58851/%D9%BE%D8%B1%DB%8C%D9%86%D8%AA%D8%B1-%D8%AC%D9%88%D9%87%D8%B1%D8%A7%D9%81%D8%B4%D8%A7%D9%86-%D8%A7%D9%BE%D8%B3%D9%88%D9%86-%D9%85%D8%AF%D9%84-1430w', 'status': '200', 'size': '41810', 'referer': '-', 'user_agent': 'Mozilla/5.0 (Windows NT 6.1; WOW64) AppleWebKit/535.7(KHTML, like Gecko) Chrome/16.0.912.36 Safari/535.7', '_id': ObjectId('61fa4413465a700d605d10ed')} added to Collection(Database(MongoClient(host=['localhost:27017'], document_class=dict, tz_aware=False, connect=True), 'mydatabase'), 'logs')\n",
      "{'client': '130.185.74.243', 'userid': '-', 'datetime': '22/Jan/2019:04:07:31 +0330', 'method': 'GET', 'request': '/filter/stexists,p6446,t165,b224', 'status': '200', 'size': '31383', 'referer': '-', 'user_agent': 'Mozilla/5.0 (Windows NT 6.1; rv:42.0) Gecko/20100101 Firefox/42.0', '_id': ObjectId('61fa4417465a700d605d10ee')} added to Collection(Database(MongoClient(host=['localhost:27017'], document_class=dict, tz_aware=False, connect=True), 'mydatabase'), 'logs')\n",
      "{'client': '91.99.72.15', 'userid': '-', 'datetime': '22/Jan/2019:04:07:31 +0330', 'method': 'GET', 'request': '/product/30981/60774/%D8%AA%D9%84%D9%88%DB%8C%D8%B2%DB%8C%D9%88%D9%86-%D8%A7%D9%84-%D8%A7%DB%8C-%D8%AF%DB%8C-%D8%B3%D9%88%D9%86%DB%8C-%D9%85%D8%AF%D9%84-KD-49X8000D', 'status': '200', 'size': '43817', 'referer': '-', 'user_agent': 'Mozilla/5.0 (Windows NT 6.1; WOW64) AppleWebKit/535.7(KHTML, like Gecko) Chrome/16.0.912.36 Safari/535.7', '_id': ObjectId('61fa441b465a700d605d10ef')} added to Collection(Database(MongoClient(host=['localhost:27017'], document_class=dict, tz_aware=False, connect=True), 'mydatabase'), 'logs')\n",
      "{'client': '5.127.182.189', 'userid': '-', 'datetime': '22/Jan/2019:04:07:32 +0330', 'method': 'GET', 'request': '/settings/logo', 'status': '200', 'size': '4120', 'referer': 'https://www.zanbil.ir/m/product/34270/65248/%D9%84%D9%BE-%D8%AA%D8%A7%D9%BE-%D8%A7%DB%8C%D8%B3%D9%88%D8%B3-%D9%85%D8%AF%D9%84-Asus-X541UV', 'user_agent': 'Mozilla/5.0 (Linux; Android 9; Mi A1) AppleWebKit/537.36 (KHTML, like Gecko) Chrome/71.0.3578.99 Mobile Safari/537.36', '_id': ObjectId('61fa441f465a700d605d10f0')} added to Collection(Database(MongoClient(host=['localhost:27017'], document_class=dict, tz_aware=False, connect=True), 'mydatabase'), 'logs')\n"
     ]
    },
    {
     "name": "stdout",
     "output_type": "stream",
     "text": [
      "{'client': '207.46.13.136', 'userid': '-', 'datetime': '22/Jan/2019:04:07:32 +0330', 'method': 'GET', 'request': '/filter/b1,b103,b105,b109,b111,b113,b135,b144,b176,b186,b192,b198,b221,b261,b291,b454,b52,b598,b741,b77,b83', 'status': '200', 'size': '39243', 'referer': '-', 'user_agent': 'Mozilla/5.0 (compatible; bingbot/2.0; +http://www.bing.com/bingbot.htm)', '_id': ObjectId('61fa4423465a700d605d10f1')} added to Collection(Database(MongoClient(host=['localhost:27017'], document_class=dict, tz_aware=False, connect=True), 'mydatabase'), 'logs')\n",
      "{'client': '54.36.148.241', 'userid': '-', 'datetime': '22/Jan/2019:04:07:32 +0330', 'method': 'GET', 'request': '/filter/b131,b3,b862,p5935', 'status': '200', 'size': '34579', 'referer': '-', 'user_agent': 'Mozilla/5.0 (compatible; AhrefsBot/6.1; +http://ahrefs.com/robot/)', '_id': ObjectId('61fa4427465a700d605d10f2')} added to Collection(Database(MongoClient(host=['localhost:27017'], document_class=dict, tz_aware=False, connect=True), 'mydatabase'), 'logs')\n",
      "{'client': '66.249.66.91', 'userid': '-', 'datetime': '22/Jan/2019:04:07:32 +0330', 'method': 'GET', 'request': '/filter/b481%2Cb874%2Cb226%2Cb570%2Cb598%2Cstexists%2Cb880%2Cb270%2Cb883%2Cb99%2Cb261%2Cb249%2Cb20%2Cb701%2Cb42%2Cb548%2Cb183%2Cb88%2Cb308%2Cb103%2Cb1%2Cb126%2Cb523%2Cb900%2Cb192%2Cb188%2Cb703%2Cb890%2Cb148%2Cb256%2Cb651%2Cb41%2Cb647%2Cb22%2Cb613%2Cb6%2Cb221%2Cb36%2Cb614%2Cb3%2Cb216%2Cb218%2Cb136%2Cb573%2Cb151%2Cb185%2Cb32%2Cb441%2Cb143%2Cb648%2Cb203%2Cb877%2Cb209%2Cb231%2Cb485%2Cb147%2Cb484?page=8', 'status': '200', 'size': '41400', 'referer': '-', 'user_agent': 'Mozilla/5.0 (compatible; Googlebot/2.1; +http://www.google.com/bot.html)', '_id': ObjectId('61fa442b465a700d605d10f3')} added to Collection(Database(MongoClient(host=['localhost:27017'], document_class=dict, tz_aware=False, connect=True), 'mydatabase'), 'logs')\n",
      "{'client': '5.127.182.189', 'userid': '-', 'datetime': '22/Jan/2019:04:07:32 +0330', 'method': 'GET', 'request': '/image/34270?name=asusx541uv-i3-1.jpg&wh=max', 'status': '200', 'size': '68380', 'referer': 'https://www.zanbil.ir/m/product/34270/65248/%D9%84%D9%BE-%D8%AA%D8%A7%D9%BE-%D8%A7%DB%8C%D8%B3%D9%88%D8%B3-%D9%85%D8%AF%D9%84-Asus-X541UV', 'user_agent': 'Mozilla/5.0 (Linux; Android 9; Mi A1) AppleWebKit/537.36 (KHTML, like Gecko) Chrome/71.0.3578.99 Mobile Safari/537.36', '_id': ObjectId('61fa442f465a700d605d10f4')} added to Collection(Database(MongoClient(host=['localhost:27017'], document_class=dict, tz_aware=False, connect=True), 'mydatabase'), 'logs')\n",
      "{'client': '17.58.102.43', 'userid': '-', 'datetime': '22/Jan/2019:04:07:33 +0330', 'method': 'GET', 'request': '/browse/hair-styler/%D8%AD%D8%A7%D9%84%D8%AA-%D8%AF%D9%87%D9%86%D8%AF%D9%87-%D9%85%D9%88', 'status': '200', 'size': '33303', 'referer': '-', 'user_agent': 'Mozilla/5.0 (Macintosh; Intel Mac OS X 10_10_1) AppleWebKit/600.2.5 (KHTML, like Gecko) Version/8.0.2 Safari/600.2.5 (Applebot/0.1; +http://www.apple.com/go/applebot)', '_id': ObjectId('61fa4433465a700d605d10f5')} added to Collection(Database(MongoClient(host=['localhost:27017'], document_class=dict, tz_aware=False, connect=True), 'mydatabase'), 'logs')\n"
     ]
    },
    {
     "ename": "KeyboardInterrupt",
     "evalue": "",
     "output_type": "error",
     "traceback": [
      "\u001b[1;31m---------------------------------------------------------------------------\u001b[0m",
      "\u001b[1;31mKeyboardInterrupt\u001b[0m                         Traceback (most recent call last)",
      "\u001b[1;32m~\\AppData\\Local\\Temp/ipykernel_5776/3242933948.py\u001b[0m in \u001b[0;36m<module>\u001b[1;34m\u001b[0m\n\u001b[0;32m     14\u001b[0m     \u001b[0mmycol\u001b[0m\u001b[1;33m.\u001b[0m\u001b[0minsert_one\u001b[0m\u001b[1;33m(\u001b[0m\u001b[0md\u001b[0m\u001b[1;33m)\u001b[0m\u001b[1;33m\u001b[0m\u001b[1;33m\u001b[0m\u001b[0m\n\u001b[0;32m     15\u001b[0m     \u001b[0mprint\u001b[0m\u001b[1;33m(\u001b[0m\u001b[1;34m'{} added to {}'\u001b[0m\u001b[1;33m.\u001b[0m\u001b[0mformat\u001b[0m\u001b[1;33m(\u001b[0m\u001b[0md\u001b[0m\u001b[1;33m,\u001b[0m \u001b[0mmycol\u001b[0m\u001b[1;33m)\u001b[0m\u001b[1;33m)\u001b[0m\u001b[1;33m\u001b[0m\u001b[1;33m\u001b[0m\u001b[0m\n\u001b[1;32m---> 16\u001b[1;33m     \u001b[0msleep\u001b[0m\u001b[1;33m(\u001b[0m\u001b[1;36m4\u001b[0m\u001b[1;33m)\u001b[0m\u001b[1;33m\u001b[0m\u001b[1;33m\u001b[0m\u001b[0m\n\u001b[0m",
      "\u001b[1;31mKeyboardInterrupt\u001b[0m: "
     ]
    }
   ],
   "source": [
    "d=dict()\n",
    "i=0\n",
    "n=mycol.count_documents({})\n",
    "print(n)\n",
    "for message in consumer:\n",
    "    if i<n:\n",
    "        i+=1\n",
    "        continue\n",
    "    log_line = re.findall(combined_regex, message.value)\n",
    "    try:\n",
    "        d=preprocess(log_line)\n",
    "    except:\n",
    "        continue    \n",
    "    mycol.insert_one(d)\n",
    "    print('{} added to {}'.format(d, mycol))\n",
    "    sleep(4)"
   ]
  },
  {
   "cell_type": "code",
   "execution_count": null,
   "id": "bbceae83-9198-4c8f-aabb-03e25b1bfd5c",
   "metadata": {},
   "outputs": [],
   "source": []
  },
  {
   "cell_type": "code",
   "execution_count": null,
   "id": "3d1fb691",
   "metadata": {},
   "outputs": [],
   "source": []
  }
 ],
 "metadata": {
  "kernelspec": {
   "display_name": "Python 3 (ipykernel)",
   "language": "python",
   "name": "python3"
  },
  "language_info": {
   "codemirror_mode": {
    "name": "ipython",
    "version": 3
   },
   "file_extension": ".py",
   "mimetype": "text/x-python",
   "name": "python",
   "nbconvert_exporter": "python",
   "pygments_lexer": "ipython3",
   "version": "3.8.8"
  }
 },
 "nbformat": 4,
 "nbformat_minor": 5
}
